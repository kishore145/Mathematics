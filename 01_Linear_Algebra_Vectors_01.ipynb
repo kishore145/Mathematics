{
  "nbformat": 4,
  "nbformat_minor": 0,
  "metadata": {
    "colab": {
      "name": "01 Linear Algebra Vectors 01.ipynb",
      "provenance": [],
      "collapsed_sections": [],
      "authorship_tag": "ABX9TyOe9eAvX5+xzbI/xEN4ZV/T",
      "include_colab_link": true
    },
    "kernelspec": {
      "name": "python3",
      "display_name": "Python 3"
    },
    "accelerator": "GPU"
  },
  "cells": [
    {
      "cell_type": "markdown",
      "metadata": {
        "id": "view-in-github",
        "colab_type": "text"
      },
      "source": [
        "<a href=\"https://colab.research.google.com/github/kishore145/Mathematics/blob/master/01_Linear_Algebra_Vectors_01.ipynb\" target=\"_parent\"><img src=\"https://colab.research.google.com/assets/colab-badge.svg\" alt=\"Open In Colab\"/></a>"
      ]
    },
    {
      "cell_type": "markdown",
      "metadata": {
        "id": "9i1sqPM3LcNg",
        "colab_type": "text"
      },
      "source": [
        "# Vectors\n",
        "Create simple vectors using numpy and tensorflow"
      ]
    },
    {
      "cell_type": "code",
      "metadata": {
        "id": "G-szkaRA2BuS",
        "colab_type": "code",
        "colab": {}
      },
      "source": [
        "# Import dependencies\n",
        "import numpy as np\n",
        "import tensorflow as tf"
      ],
      "execution_count": 2,
      "outputs": []
    },
    {
      "cell_type": "code",
      "metadata": {
        "id": "HfuNaen52Ef0",
        "colab_type": "code",
        "colab": {
          "base_uri": "https://localhost:8080/",
          "height": 34
        },
        "outputId": "092be80c-c81e-45c9-d105-00c1dcf4e2e2"
      },
      "source": [
        "# Create vector a of 3 values using numpy\n",
        "a = np.array([2,1,0])\n",
        "a"
      ],
      "execution_count": 3,
      "outputs": [
        {
          "output_type": "execute_result",
          "data": {
            "text/plain": [
              "array([2, 1, 0])"
            ]
          },
          "metadata": {
            "tags": []
          },
          "execution_count": 3
        }
      ]
    },
    {
      "cell_type": "code",
      "metadata": {
        "id": "2p-BrdYF2I9a",
        "colab_type": "code",
        "colab": {
          "base_uri": "https://localhost:8080/",
          "height": 34
        },
        "outputId": "8c7e778b-dbc5-4083-f1fc-1daa707ef8cf"
      },
      "source": [
        "# Create a vector b of 4 values using numpy\n",
        "b = np.array([2,1,3,4])\n",
        "b"
      ],
      "execution_count": 4,
      "outputs": [
        {
          "output_type": "execute_result",
          "data": {
            "text/plain": [
              "array([2, 1, 3, 4])"
            ]
          },
          "metadata": {
            "tags": []
          },
          "execution_count": 4
        }
      ]
    },
    {
      "cell_type": "code",
      "metadata": {
        "id": "TPUBk8DP2P0W",
        "colab_type": "code",
        "colab": {
          "base_uri": "https://localhost:8080/",
          "height": 34
        },
        "outputId": "ffed51bc-4428-4a16-91dd-90a2663eca22"
      },
      "source": [
        "# Create a vector of 3 values using tensforlow\n",
        "a_tf = tf.Variable([2,1,0])\n",
        "a_tf"
      ],
      "execution_count": 5,
      "outputs": [
        {
          "output_type": "execute_result",
          "data": {
            "text/plain": [
              "<tf.Variable 'Variable:0' shape=(3,) dtype=int32, numpy=array([2, 1, 0], dtype=int32)>"
            ]
          },
          "metadata": {
            "tags": []
          },
          "execution_count": 5
        }
      ]
    },
    {
      "cell_type": "code",
      "metadata": {
        "id": "soo9P3YI2R-i",
        "colab_type": "code",
        "colab": {
          "base_uri": "https://localhost:8080/",
          "height": 34
        },
        "outputId": "3d7ecd38-0115-4c79-81d7-b0d3a08e0819"
      },
      "source": [
        "# Create a vector of 4 values using tensorflow\n",
        "b_tf = tf.Variable([2,1,3,4])\n",
        "b_tf"
      ],
      "execution_count": 6,
      "outputs": [
        {
          "output_type": "execute_result",
          "data": {
            "text/plain": [
              "<tf.Variable 'Variable:0' shape=(4,) dtype=int32, numpy=array([2, 1, 3, 4], dtype=int32)>"
            ]
          },
          "metadata": {
            "tags": []
          },
          "execution_count": 6
        }
      ]
    },
    {
      "cell_type": "markdown",
      "metadata": {
        "id": "Dj41YxoEmWzM",
        "colab_type": "text"
      },
      "source": [
        "# Vector Addition and Subtraction"
      ]
    },
    {
      "cell_type": "code",
      "metadata": {
        "id": "56nkBJzmmcd5",
        "colab_type": "code",
        "colab": {}
      },
      "source": [
        "# Vector arithmetic using numpy\n",
        "a = np.array([2,1,3,4])\n",
        "b = np.array([1,3,5,7])"
      ],
      "execution_count": 7,
      "outputs": []
    },
    {
      "cell_type": "code",
      "metadata": {
        "id": "-5TEyRQBmuGD",
        "colab_type": "code",
        "colab": {
          "base_uri": "https://localhost:8080/",
          "height": 34
        },
        "outputId": "7488152d-deff-4d72-8a74-d5b2ce6056ce"
      },
      "source": [
        "a + b"
      ],
      "execution_count": 8,
      "outputs": [
        {
          "output_type": "execute_result",
          "data": {
            "text/plain": [
              "array([ 3,  4,  8, 11])"
            ]
          },
          "metadata": {
            "tags": []
          },
          "execution_count": 8
        }
      ]
    },
    {
      "cell_type": "code",
      "metadata": {
        "id": "mQIW9TlUm0pH",
        "colab_type": "code",
        "colab": {
          "base_uri": "https://localhost:8080/",
          "height": 34
        },
        "outputId": "0e3702a2-9815-4f75-e250-a8b2d61271ed"
      },
      "source": [
        "a - b"
      ],
      "execution_count": 9,
      "outputs": [
        {
          "output_type": "execute_result",
          "data": {
            "text/plain": [
              "array([ 1, -2, -2, -3])"
            ]
          },
          "metadata": {
            "tags": []
          },
          "execution_count": 9
        }
      ]
    },
    {
      "cell_type": "code",
      "metadata": {
        "id": "dqV1I1Twm3BV",
        "colab_type": "code",
        "colab": {
          "base_uri": "https://localhost:8080/",
          "height": 34
        },
        "outputId": "a66339ec-b8eb-4315-ec89-9b9207be72f5"
      },
      "source": [
        "3 * a "
      ],
      "execution_count": 10,
      "outputs": [
        {
          "output_type": "execute_result",
          "data": {
            "text/plain": [
              "array([ 6,  3,  9, 12])"
            ]
          },
          "metadata": {
            "tags": []
          },
          "execution_count": 10
        }
      ]
    },
    {
      "cell_type": "code",
      "metadata": {
        "id": "LyDxJGc4m5rQ",
        "colab_type": "code",
        "colab": {}
      },
      "source": [
        "# Vector Arithmetic using tensorflow\n",
        "a_tf = tf.Variable([2,1,3,4])\n",
        "b_tf = tf.Variable([1,3,5,7])"
      ],
      "execution_count": 11,
      "outputs": []
    },
    {
      "cell_type": "code",
      "metadata": {
        "id": "BKcHUT1unFcF",
        "colab_type": "code",
        "colab": {
          "base_uri": "https://localhost:8080/",
          "height": 34
        },
        "outputId": "60e9310a-eb2f-44f0-fe7f-4ba0784708d2"
      },
      "source": [
        "a_tf + b_tf"
      ],
      "execution_count": 12,
      "outputs": [
        {
          "output_type": "execute_result",
          "data": {
            "text/plain": [
              "<tf.Tensor: shape=(4,), dtype=int32, numpy=array([ 3,  4,  8, 11], dtype=int32)>"
            ]
          },
          "metadata": {
            "tags": []
          },
          "execution_count": 12
        }
      ]
    },
    {
      "cell_type": "code",
      "metadata": {
        "id": "JU7ClraQnIRh",
        "colab_type": "code",
        "colab": {
          "base_uri": "https://localhost:8080/",
          "height": 34
        },
        "outputId": "1f9541fd-0e3e-47cd-f463-edb8d3bfb4f8"
      },
      "source": [
        "a_tf - b_tf"
      ],
      "execution_count": 13,
      "outputs": [
        {
          "output_type": "execute_result",
          "data": {
            "text/plain": [
              "<tf.Tensor: shape=(4,), dtype=int32, numpy=array([ 1, -2, -2, -3], dtype=int32)>"
            ]
          },
          "metadata": {
            "tags": []
          },
          "execution_count": 13
        }
      ]
    },
    {
      "cell_type": "code",
      "metadata": {
        "id": "YbHiiedVnKzI",
        "colab_type": "code",
        "colab": {
          "base_uri": "https://localhost:8080/",
          "height": 34
        },
        "outputId": "d07fc964-be2c-4271-dce4-cb4450b0bf92"
      },
      "source": [
        "3 * a_tf"
      ],
      "execution_count": 14,
      "outputs": [
        {
          "output_type": "execute_result",
          "data": {
            "text/plain": [
              "<tf.Tensor: shape=(4,), dtype=int32, numpy=array([ 6,  3,  9, 12], dtype=int32)>"
            ]
          },
          "metadata": {
            "tags": []
          },
          "execution_count": 14
        }
      ]
    },
    {
      "cell_type": "markdown",
      "metadata": {
        "id": "h4P5WMATLyGx",
        "colab_type": "text"
      },
      "source": [
        "# word2vec\n",
        "Implementing word2vec to show practical use of vectors\n",
        "\n",
        "Original paper:  \n",
        "https://arxiv.org/pdf/1301.3781.pdf\n"
      ]
    },
    {
      "cell_type": "code",
      "metadata": {
        "id": "WpOaH1k22jSF",
        "colab_type": "code",
        "colab": {}
      },
      "source": [
        "# Import dependencies for creating word vectors\n",
        "import nltk\n",
        "import gensim\n",
        "from gensim.models.word2vec import Word2Vec"
      ],
      "execution_count": 15,
      "outputs": []
    },
    {
      "cell_type": "code",
      "metadata": {
        "id": "16vTOE2SnebC",
        "colab_type": "code",
        "colab": {}
      },
      "source": [
        "# Import dependencies to plot word vectors visually\n",
        "from sklearn.manifold import TSNE\n",
        "import pandas as pd\n",
        "from bokeh.io import output_notebook\n",
        "from bokeh.plotting import show, figure"
      ],
      "execution_count": 16,
      "outputs": []
    },
    {
      "cell_type": "code",
      "metadata": {
        "id": "MS775QzuRSWQ",
        "colab_type": "code",
        "colab": {
          "base_uri": "https://localhost:8080/",
          "height": 68
        },
        "outputId": "dc943084-4ab7-4e63-cecc-0405a6d1d43c"
      },
      "source": [
        "# Load data\n",
        "nltk.download('gutenberg')"
      ],
      "execution_count": 17,
      "outputs": [
        {
          "output_type": "stream",
          "text": [
            "[nltk_data] Downloading package gutenberg to /root/nltk_data...\n",
            "[nltk_data]   Unzipping corpora/gutenberg.zip.\n"
          ],
          "name": "stdout"
        },
        {
          "output_type": "execute_result",
          "data": {
            "text/plain": [
              "True"
            ]
          },
          "metadata": {
            "tags": []
          },
          "execution_count": 17
        }
      ]
    },
    {
      "cell_type": "code",
      "metadata": {
        "id": "OTR98OypRYgM",
        "colab_type": "code",
        "colab": {}
      },
      "source": [
        "from nltk.corpus import gutenberg # Classic english books from project gutenberg"
      ],
      "execution_count": 18,
      "outputs": []
    },
    {
      "cell_type": "code",
      "metadata": {
        "id": "DUlmwBManrzT",
        "colab_type": "code",
        "colab": {
          "base_uri": "https://localhost:8080/",
          "height": 68
        },
        "outputId": "b48be218-ebfa-4451-b5d1-60b7a9884e3a"
      },
      "source": [
        "nltk.download('punkt') # English-language sentence tokenizer (not all periods end sentences; not all sentences start with a capital letter)"
      ],
      "execution_count": 21,
      "outputs": [
        {
          "output_type": "stream",
          "text": [
            "[nltk_data] Downloading package punkt to /root/nltk_data...\n",
            "[nltk_data]   Unzipping tokenizers/punkt.zip.\n"
          ],
          "name": "stdout"
        },
        {
          "output_type": "execute_result",
          "data": {
            "text/plain": [
              "True"
            ]
          },
          "metadata": {
            "tags": []
          },
          "execution_count": 21
        }
      ]
    },
    {
      "cell_type": "code",
      "metadata": {
        "id": "--koUSroTSfq",
        "colab_type": "code",
        "colab": {
          "base_uri": "https://localhost:8080/",
          "height": 68
        },
        "outputId": "86963bdc-d90e-442d-9b20-f5a156ffcecf"
      },
      "source": [
        "# a convenient method that handles newlines, as well as tokenizing sentences and words in one shot\n",
        "gberg_sents = gutenberg.sents()\n",
        "gberg_sents[0:3]"
      ],
      "execution_count": 22,
      "outputs": [
        {
          "output_type": "execute_result",
          "data": {
            "text/plain": [
              "[['[', 'Emma', 'by', 'Jane', 'Austen', '1816', ']'],\n",
              " ['VOLUME', 'I'],\n",
              " ['CHAPTER', 'I']]"
            ]
          },
          "metadata": {
            "tags": []
          },
          "execution_count": 22
        }
      ]
    },
    {
      "cell_type": "code",
      "metadata": {
        "id": "ez38xhaxSLza",
        "colab_type": "code",
        "colab": {}
      },
      "source": [
        "# Train word2vec model on gutenberg data\n",
        "model = Word2Vec(sentences=gberg_sents, size=64, sg=1, window=10, min_count=5, workers=8 )"
      ],
      "execution_count": 23,
      "outputs": []
    },
    {
      "cell_type": "code",
      "metadata": {
        "id": "kN7VID9oTKz8",
        "colab_type": "code",
        "colab": {
          "base_uri": "https://localhost:8080/",
          "height": 238
        },
        "outputId": "5e759af3-f49e-49f2-8841-33315fabbc62"
      },
      "source": [
        "# Explore model outputs\n",
        "# As shown below, word dog is now represented as a vector of 64 dimensions. \n",
        "model.wv['dog']"
      ],
      "execution_count": 24,
      "outputs": [
        {
          "output_type": "execute_result",
          "data": {
            "text/plain": [
              "array([-0.16563535,  0.22381859,  0.2872279 , -0.5330074 , -0.0824253 ,\n",
              "        0.1763634 ,  0.4776888 , -0.09288356, -0.02728338,  0.30896917,\n",
              "        0.5346775 , -0.03481779, -0.2843367 , -0.29405335, -0.5039348 ,\n",
              "        0.00195951, -0.34182894,  0.11133863,  0.12136966,  0.03606385,\n",
              "        0.27968678, -0.3153902 ,  0.26258835,  0.54028714, -0.5804574 ,\n",
              "       -0.34091175,  0.47754934,  0.01064353, -0.40600032, -0.17685528,\n",
              "       -0.12168735, -0.41927198, -0.18920766, -0.09919676, -0.08705259,\n",
              "       -0.4067302 ,  0.16825074, -0.23447332,  0.09267248, -0.02598699,\n",
              "        0.6039108 , -0.25069472, -0.00891941,  0.03545779, -0.22897191,\n",
              "        0.3597601 , -0.45064688, -0.33651102,  0.21701235, -0.11734752,\n",
              "       -0.1966571 ,  0.26342654, -0.10768716, -0.3662372 ,  0.45812222,\n",
              "       -0.06235375,  0.13271028, -0.13758616,  0.4992194 , -0.21861322,\n",
              "       -0.14679825, -0.14000617,  0.01914772,  0.25202295], dtype=float32)"
            ]
          },
          "metadata": {
            "tags": []
          },
          "execution_count": 24
        }
      ]
    },
    {
      "cell_type": "code",
      "metadata": {
        "id": "g2fcWcz9Uu6O",
        "colab_type": "code",
        "colab": {
          "base_uri": "https://localhost:8080/",
          "height": 34
        },
        "outputId": "1012380c-5021-49b0-f76a-f7a3e8e188e1"
      },
      "source": [
        "# Number of dimensions of word dog\n",
        "len(model.wv['dog'])"
      ],
      "execution_count": 25,
      "outputs": [
        {
          "output_type": "execute_result",
          "data": {
            "text/plain": [
              "64"
            ]
          },
          "metadata": {
            "tags": []
          },
          "execution_count": 25
        }
      ]
    },
    {
      "cell_type": "code",
      "metadata": {
        "id": "P9-8kCD-Uzk7",
        "colab_type": "code",
        "colab": {
          "base_uri": "https://localhost:8080/",
          "height": 241
        },
        "outputId": "71442b49-904d-4ebb-d509-10517ee7f8b2"
      },
      "source": [
        "# Once the words are represented as vectors, you can perform intersting things with it. \n",
        "# Liking finding similar words. All these are found on the fly using word vectors determined from the gutenberg corpus\n",
        "model.wv.most_similar('dog') # distance"
      ],
      "execution_count": 26,
      "outputs": [
        {
          "output_type": "stream",
          "text": [
            "/usr/local/lib/python3.6/dist-packages/gensim/matutils.py:737: FutureWarning: Conversion of the second argument of issubdtype from `int` to `np.signedinteger` is deprecated. In future, it will be treated as `np.int64 == np.dtype(int).type`.\n",
            "  if np.issubdtype(vec.dtype, np.int):\n"
          ],
          "name": "stderr"
        },
        {
          "output_type": "execute_result",
          "data": {
            "text/plain": [
              "[('puppy', 0.8269394636154175),\n",
              " ('chimney', 0.7919608354568481),\n",
              " ('sweeper', 0.7804093360900879),\n",
              " ('cage', 0.7706351280212402),\n",
              " ('thief', 0.7697631120681763),\n",
              " ('boy', 0.7695230841636658),\n",
              " ('broth', 0.7588620185852051),\n",
              " ('wid', 0.758419394493103),\n",
              " ('whip', 0.7565804719924927),\n",
              " ('gallon', 0.7409327030181885)]"
            ]
          },
          "metadata": {
            "tags": []
          },
          "execution_count": 26
        }
      ]
    },
    {
      "cell_type": "code",
      "metadata": {
        "id": "-DHaphsPU3Be",
        "colab_type": "code",
        "colab": {
          "base_uri": "https://localhost:8080/",
          "height": 241
        },
        "outputId": "1f0e2789-bb5d-4dfe-b628-105566c5ae8c"
      },
      "source": [
        "model.wv.most_similar('think')"
      ],
      "execution_count": 27,
      "outputs": [
        {
          "output_type": "stream",
          "text": [
            "/usr/local/lib/python3.6/dist-packages/gensim/matutils.py:737: FutureWarning: Conversion of the second argument of issubdtype from `int` to `np.signedinteger` is deprecated. In future, it will be treated as `np.int64 == np.dtype(int).type`.\n",
            "  if np.issubdtype(vec.dtype, np.int):\n"
          ],
          "name": "stderr"
        },
        {
          "output_type": "execute_result",
          "data": {
            "text/plain": [
              "[('contradict', 0.8526637554168701),\n",
              " ('suppose', 0.8444442749023438),\n",
              " ('manage', 0.8346689939498901),\n",
              " ('believe', 0.8254157304763794),\n",
              " ('Mamma', 0.8241066336631775),\n",
              " ('behave', 0.822253942489624),\n",
              " ('awfully', 0.8083606958389282),\n",
              " ('NOW', 0.806320071220398),\n",
              " ('really', 0.804284930229187),\n",
              " ('downright', 0.8024898767471313)]"
            ]
          },
          "metadata": {
            "tags": []
          },
          "execution_count": 27
        }
      ]
    },
    {
      "cell_type": "code",
      "metadata": {
        "id": "JDQOvzeUowRr",
        "colab_type": "code",
        "colab": {
          "base_uri": "https://localhost:8080/",
          "height": 241
        },
        "outputId": "aad32e27-f9cb-496e-d749-33dc8a4140bf"
      },
      "source": [
        "model.wv.most_similar('day')"
      ],
      "execution_count": 31,
      "outputs": [
        {
          "output_type": "stream",
          "text": [
            "/usr/local/lib/python3.6/dist-packages/gensim/matutils.py:737: FutureWarning: Conversion of the second argument of issubdtype from `int` to `np.signedinteger` is deprecated. In future, it will be treated as `np.int64 == np.dtype(int).type`.\n",
            "  if np.issubdtype(vec.dtype, np.int):\n"
          ],
          "name": "stderr"
        },
        {
          "output_type": "execute_result",
          "data": {
            "text/plain": [
              "[('morning', 0.791458010673523),\n",
              " ('night', 0.77092045545578),\n",
              " ('month', 0.7374434471130371),\n",
              " ('time', 0.7183862924575806),\n",
              " ('week', 0.7064138054847717),\n",
              " ('evening', 0.6713027954101562),\n",
              " ('Saturday', 0.6698338985443115),\n",
              " ('Adar', 0.6594184041023254),\n",
              " ('sabbath', 0.653235137462616),\n",
              " ('feasting', 0.6524351835250854)]"
            ]
          },
          "metadata": {
            "tags": []
          },
          "execution_count": 31
        }
      ]
    },
    {
      "cell_type": "code",
      "metadata": {
        "id": "eqWoqJP3oyQ5",
        "colab_type": "code",
        "colab": {
          "base_uri": "https://localhost:8080/",
          "height": 241
        },
        "outputId": "8139104c-d77c-4dd4-c05f-71ab76cd5629"
      },
      "source": [
        "model.wv.most_similar('father')"
      ],
      "execution_count": 32,
      "outputs": [
        {
          "output_type": "stream",
          "text": [
            "/usr/local/lib/python3.6/dist-packages/gensim/matutils.py:737: FutureWarning: Conversion of the second argument of issubdtype from `int` to `np.signedinteger` is deprecated. In future, it will be treated as `np.int64 == np.dtype(int).type`.\n",
            "  if np.issubdtype(vec.dtype, np.int):\n"
          ],
          "name": "stderr"
        },
        {
          "output_type": "execute_result",
          "data": {
            "text/plain": [
              "[('mother', 0.8752946853637695),\n",
              " ('brother', 0.8497220873832703),\n",
              " ('sister', 0.8027050495147705),\n",
              " ('wife', 0.7820793390274048),\n",
              " ('daughter', 0.7738239169120789),\n",
              " ('Amnon', 0.7503934502601624),\n",
              " ('Tamar', 0.7226407527923584),\n",
              " ('servant', 0.7184084057807922),\n",
              " ('uncle', 0.7183826565742493),\n",
              " ('younger', 0.716156542301178)]"
            ]
          },
          "metadata": {
            "tags": []
          },
          "execution_count": 32
        }
      ]
    },
    {
      "cell_type": "code",
      "metadata": {
        "id": "diUfV3Oyo6IW",
        "colab_type": "code",
        "colab": {
          "base_uri": "https://localhost:8080/",
          "height": 123
        },
        "outputId": "ac72a579-59a4-419f-eb47-5df7ad93b7c5"
      },
      "source": [
        "model.wv.doesnt_match(\"mother father daughter dog\".split())"
      ],
      "execution_count": 33,
      "outputs": [
        {
          "output_type": "stream",
          "text": [
            "/usr/local/lib/python3.6/dist-packages/gensim/models/keyedvectors.py:895: FutureWarning: arrays to stack must be passed as a \"sequence\" type such as list or tuple. Support for non-sequence iterables such as generators is deprecated as of NumPy 1.16 and will raise an error in the future.\n",
            "  vectors = vstack(self.word_vec(word, use_norm=True) for word in used_words).astype(REAL)\n",
            "/usr/local/lib/python3.6/dist-packages/gensim/matutils.py:737: FutureWarning: Conversion of the second argument of issubdtype from `int` to `np.signedinteger` is deprecated. In future, it will be treated as `np.int64 == np.dtype(int).type`.\n",
            "  if np.issubdtype(vec.dtype, np.int):\n"
          ],
          "name": "stderr"
        },
        {
          "output_type": "execute_result",
          "data": {
            "application/vnd.google.colaboratory.intrinsic": {
              "type": "string"
            },
            "text/plain": [
              "'dog'"
            ]
          },
          "metadata": {
            "tags": []
          },
          "execution_count": 33
        }
      ]
    },
    {
      "cell_type": "code",
      "metadata": {
        "id": "vMwjhe1Ho-IR",
        "colab_type": "code",
        "colab": {
          "base_uri": "https://localhost:8080/",
          "height": 88
        },
        "outputId": "e803889f-f39a-437c-dfe5-2bf4b8f933f0"
      },
      "source": [
        "model.wv.similarity('father', 'dog')"
      ],
      "execution_count": 34,
      "outputs": [
        {
          "output_type": "stream",
          "text": [
            "/usr/local/lib/python3.6/dist-packages/gensim/matutils.py:737: FutureWarning: Conversion of the second argument of issubdtype from `int` to `np.signedinteger` is deprecated. In future, it will be treated as `np.int64 == np.dtype(int).type`.\n",
            "  if np.issubdtype(vec.dtype, np.int):\n"
          ],
          "name": "stderr"
        },
        {
          "output_type": "execute_result",
          "data": {
            "text/plain": [
              "0.45768186"
            ]
          },
          "metadata": {
            "tags": []
          },
          "execution_count": 34
        }
      ]
    },
    {
      "cell_type": "code",
      "metadata": {
        "id": "pprsfbPhU-UI",
        "colab_type": "code",
        "colab": {
          "base_uri": "https://localhost:8080/",
          "height": 241
        },
        "outputId": "10169ae3-c5cd-4641-d699-6a260f6fde42"
      },
      "source": [
        "# Let's do some arithmetic on our word vectors and see if the word relations hold true in vector representation\n",
        "# Get me wordvectors most similar to (Father + Woman - Man) should get mother\n",
        "model.wv.most_similar(positive=['father', 'woman'], negative=['man'])"
      ],
      "execution_count": 28,
      "outputs": [
        {
          "output_type": "stream",
          "text": [
            "/usr/local/lib/python3.6/dist-packages/gensim/matutils.py:737: FutureWarning: Conversion of the second argument of issubdtype from `int` to `np.signedinteger` is deprecated. In future, it will be treated as `np.int64 == np.dtype(int).type`.\n",
            "  if np.issubdtype(vec.dtype, np.int):\n"
          ],
          "name": "stderr"
        },
        {
          "output_type": "execute_result",
          "data": {
            "text/plain": [
              "[('mother', 0.8021386861801147),\n",
              " ('daughter', 0.7759180068969727),\n",
              " ('wife', 0.7727994918823242),\n",
              " ('husband', 0.7648909091949463),\n",
              " ('sister', 0.7559406757354736),\n",
              " ('brother', 0.7406525611877441),\n",
              " ('Rachel', 0.6969828605651855),\n",
              " ('Tamar', 0.6896173357963562),\n",
              " ('Sarai', 0.6816429495811462),\n",
              " ('Sarah', 0.6799650192260742)]"
            ]
          },
          "metadata": {
            "tags": []
          },
          "execution_count": 28
        }
      ]
    },
    {
      "cell_type": "code",
      "metadata": {
        "id": "sCgnj0c2Z0F0",
        "colab_type": "code",
        "colab": {
          "base_uri": "https://localhost:8080/",
          "height": 241
        },
        "outputId": "a6786aa3-679a-4575-b55c-9a441cb2d292"
      },
      "source": [
        "# Get me wordvectors most similar to (son + Woman - Man) should get daughter\n",
        "model.wv.most_similar(positive=['son', 'woman'], negative=['man'])"
      ],
      "execution_count": 29,
      "outputs": [
        {
          "output_type": "stream",
          "text": [
            "/usr/local/lib/python3.6/dist-packages/gensim/matutils.py:737: FutureWarning: Conversion of the second argument of issubdtype from `int` to `np.signedinteger` is deprecated. In future, it will be treated as `np.int64 == np.dtype(int).type`.\n",
            "  if np.issubdtype(vec.dtype, np.int):\n"
          ],
          "name": "stderr"
        },
        {
          "output_type": "execute_result",
          "data": {
            "text/plain": [
              "[('daughter', 0.7504309415817261),\n",
              " ('wife', 0.7419352531433105),\n",
              " ('Leah', 0.7360500693321228),\n",
              " ('Sarai', 0.7295117378234863),\n",
              " ('Sarah', 0.7213910818099976),\n",
              " ('Bethuel', 0.717557966709137),\n",
              " ('Abram', 0.7154536247253418),\n",
              " ('Hagar', 0.7142410278320312),\n",
              " ('Rachel', 0.7128888368606567),\n",
              " ('Onan', 0.7062435150146484)]"
            ]
          },
          "metadata": {
            "tags": []
          },
          "execution_count": 29
        }
      ]
    },
    {
      "cell_type": "code",
      "metadata": {
        "id": "Jn23fMyIZ8mg",
        "colab_type": "code",
        "colab": {
          "base_uri": "https://localhost:8080/",
          "height": 241
        },
        "outputId": "24efd6f2-c3bf-4bb8-c1a1-a7ac69820b3b"
      },
      "source": [
        "# Get me wordvectors most similar to (husband + woman - man) should get wife\n",
        "model.wv.most_similar(positive=['husband', 'woman'], negative=['man'])"
      ],
      "execution_count": 30,
      "outputs": [
        {
          "output_type": "stream",
          "text": [
            "/usr/local/lib/python3.6/dist-packages/gensim/matutils.py:737: FutureWarning: Conversion of the second argument of issubdtype from `int` to `np.signedinteger` is deprecated. In future, it will be treated as `np.int64 == np.dtype(int).type`.\n",
            "  if np.issubdtype(vec.dtype, np.int):\n"
          ],
          "name": "stderr"
        },
        {
          "output_type": "execute_result",
          "data": {
            "text/plain": [
              "[('wife', 0.7377575635910034),\n",
              " ('daughter', 0.6998690962791443),\n",
              " ('mother', 0.688650906085968),\n",
              " ('widow', 0.6833479404449463),\n",
              " ('conceived', 0.6830436587333679),\n",
              " ('sister', 0.6826539039611816),\n",
              " ('child', 0.6753749847412109),\n",
              " ('maid', 0.6712912321090698),\n",
              " ('nurse', 0.6483502388000488),\n",
              " ('Rachel', 0.6433163285255432)]"
            ]
          },
          "metadata": {
            "tags": []
          },
          "execution_count": 30
        }
      ]
    },
    {
      "cell_type": "code",
      "metadata": {
        "id": "LPhovDgWaCga",
        "colab_type": "code",
        "colab": {
          "base_uri": "https://localhost:8080/",
          "height": 581
        },
        "outputId": "9ae8c223-7031-45a8-f3d9-0be1fcbfc961"
      },
      "source": [
        "# Get me wordvectors most similar to (king + woman - man) should get queen\n",
        "# Not a great prediction\n",
        "model.wv.most_similar(positive=['king', 'woman'], negative=['man'], topn=30)"
      ],
      "execution_count": 35,
      "outputs": [
        {
          "output_type": "stream",
          "text": [
            "/usr/local/lib/python3.6/dist-packages/gensim/matutils.py:737: FutureWarning: Conversion of the second argument of issubdtype from `int` to `np.signedinteger` is deprecated. In future, it will be treated as `np.int64 == np.dtype(int).type`.\n",
            "  if np.issubdtype(vec.dtype, np.int):\n"
          ],
          "name": "stderr"
        },
        {
          "output_type": "execute_result",
          "data": {
            "text/plain": [
              "[('Sarah', 0.7133827209472656),\n",
              " ('Rachel', 0.686896026134491),\n",
              " ('Abram', 0.6860709190368652),\n",
              " ('Bethuel', 0.6688151955604553),\n",
              " ('Leah', 0.6674652695655823),\n",
              " ('Babylon', 0.6648784875869751),\n",
              " ('Judah', 0.6607108116149902),\n",
              " ('Hagar', 0.6606854200363159),\n",
              " ('Padanaram', 0.6586019992828369),\n",
              " ('Sarai', 0.6581153869628906),\n",
              " ('David', 0.6550211310386658),\n",
              " ('Hanun', 0.6543503999710083),\n",
              " ('Laban', 0.6539816856384277),\n",
              " ('tribute', 0.6465175747871399),\n",
              " ('daughter', 0.6433618068695068),\n",
              " ('Lot', 0.6427867412567139),\n",
              " ('Cain', 0.6420150995254517),\n",
              " ('Onan', 0.6417611837387085),\n",
              " ('Esther', 0.6378758549690247),\n",
              " ('household', 0.6378402709960938),\n",
              " ('Jerubbaal', 0.6367617845535278),\n",
              " ('Bilhah', 0.6363285183906555),\n",
              " ('Jerusalem', 0.636083722114563),\n",
              " ('Rahab', 0.6351947784423828),\n",
              " ('Rebekah', 0.633100688457489),\n",
              " ('Ephron', 0.6315991878509521),\n",
              " ('damsel', 0.6311953067779541),\n",
              " ('queen', 0.6299747228622437),\n",
              " ('Solomon', 0.6288984417915344),\n",
              " ('Pharaoh', 0.6277692317962646)]"
            ]
          },
          "metadata": {
            "tags": []
          },
          "execution_count": 35
        }
      ]
    },
    {
      "cell_type": "markdown",
      "metadata": {
        "id": "JRG_vpeQpPoM",
        "colab_type": "text"
      },
      "source": [
        "# Visualize word vectors  \n",
        "Use TSNE to reduce dimensionality of word vectors from 64 to 2 so that we can visualize them in a plot and try to get more intuition\n"
      ]
    },
    {
      "cell_type": "code",
      "metadata": {
        "id": "CMQS_QsFpL2X",
        "colab_type": "code",
        "colab": {
          "base_uri": "https://localhost:8080/",
          "height": 34
        },
        "outputId": "2066cca2-554a-4e72-a4f9-84fd6da01516"
      },
      "source": [
        "len(model.wv.vocab)"
      ],
      "execution_count": 36,
      "outputs": [
        {
          "output_type": "execute_result",
          "data": {
            "text/plain": [
              "17011"
            ]
          },
          "metadata": {
            "tags": []
          },
          "execution_count": 36
        }
      ]
    },
    {
      "cell_type": "code",
      "metadata": {
        "id": "smkRMKXnpizC",
        "colab_type": "code",
        "colab": {}
      },
      "source": [
        "X = model.wv[model.wv.vocab]"
      ],
      "execution_count": 37,
      "outputs": []
    },
    {
      "cell_type": "code",
      "metadata": {
        "id": "ZgRwXysapl0m",
        "colab_type": "code",
        "colab": {}
      },
      "source": [
        "tsne = TSNE(n_components=2, n_iter=1000) # 200 is minimum iter; default is 1000"
      ],
      "execution_count": 38,
      "outputs": []
    },
    {
      "cell_type": "code",
      "metadata": {
        "id": "UpvtECWUposl",
        "colab_type": "code",
        "colab": {}
      },
      "source": [
        "X_2d = tsne.fit_transform(X)"
      ],
      "execution_count": 39,
      "outputs": []
    },
    {
      "cell_type": "code",
      "metadata": {
        "id": "9EYCR4bbpr7V",
        "colab_type": "code",
        "colab": {
          "base_uri": "https://localhost:8080/",
          "height": 102
        },
        "outputId": "a34f5ccb-73e8-419e-ef7e-3f8cb1ed1619"
      },
      "source": [
        "X_2d[0:5]"
      ],
      "execution_count": 40,
      "outputs": [
        {
          "output_type": "execute_result",
          "data": {
            "text/plain": [
              "array([[ 16.941874,  56.10478 ],\n",
              "       [-44.798504,  43.040802],\n",
              "       [-37.59002 ,  -9.568027],\n",
              "       [-47.438976,  41.21396 ],\n",
              "       [ 16.960491,  56.021297]], dtype=float32)"
            ]
          },
          "metadata": {
            "tags": []
          },
          "execution_count": 40
        }
      ]
    },
    {
      "cell_type": "code",
      "metadata": {
        "id": "dgj_QMxFpxTy",
        "colab_type": "code",
        "colab": {}
      },
      "source": [
        "# create DataFrame for storing results and plotting\n",
        "coords_df = pd.DataFrame(X_2d, columns=['x','y'])\n",
        "coords_df['token'] = model.wv.vocab.keys()"
      ],
      "execution_count": 41,
      "outputs": []
    },
    {
      "cell_type": "code",
      "metadata": {
        "id": "cXAckcqep1SZ",
        "colab_type": "code",
        "colab": {
          "base_uri": "https://localhost:8080/",
          "height": 204
        },
        "outputId": "ba7eca10-a035-4968-d383-1b1a27db9307"
      },
      "source": [
        "coords_df.head()"
      ],
      "execution_count": 42,
      "outputs": [
        {
          "output_type": "execute_result",
          "data": {
            "text/html": [
              "<div>\n",
              "<style scoped>\n",
              "    .dataframe tbody tr th:only-of-type {\n",
              "        vertical-align: middle;\n",
              "    }\n",
              "\n",
              "    .dataframe tbody tr th {\n",
              "        vertical-align: top;\n",
              "    }\n",
              "\n",
              "    .dataframe thead th {\n",
              "        text-align: right;\n",
              "    }\n",
              "</style>\n",
              "<table border=\"1\" class=\"dataframe\">\n",
              "  <thead>\n",
              "    <tr style=\"text-align: right;\">\n",
              "      <th></th>\n",
              "      <th>x</th>\n",
              "      <th>y</th>\n",
              "      <th>token</th>\n",
              "    </tr>\n",
              "  </thead>\n",
              "  <tbody>\n",
              "    <tr>\n",
              "      <th>0</th>\n",
              "      <td>16.941874</td>\n",
              "      <td>56.104778</td>\n",
              "      <td>[</td>\n",
              "    </tr>\n",
              "    <tr>\n",
              "      <th>1</th>\n",
              "      <td>-44.798504</td>\n",
              "      <td>43.040802</td>\n",
              "      <td>Emma</td>\n",
              "    </tr>\n",
              "    <tr>\n",
              "      <th>2</th>\n",
              "      <td>-37.590019</td>\n",
              "      <td>-9.568027</td>\n",
              "      <td>by</td>\n",
              "    </tr>\n",
              "    <tr>\n",
              "      <th>3</th>\n",
              "      <td>-47.438976</td>\n",
              "      <td>41.213959</td>\n",
              "      <td>Jane</td>\n",
              "    </tr>\n",
              "    <tr>\n",
              "      <th>4</th>\n",
              "      <td>16.960491</td>\n",
              "      <td>56.021297</td>\n",
              "      <td>]</td>\n",
              "    </tr>\n",
              "  </tbody>\n",
              "</table>\n",
              "</div>"
            ],
            "text/plain": [
              "           x          y token\n",
              "0  16.941874  56.104778     [\n",
              "1 -44.798504  43.040802  Emma\n",
              "2 -37.590019  -9.568027    by\n",
              "3 -47.438976  41.213959  Jane\n",
              "4  16.960491  56.021297     ]"
            ]
          },
          "metadata": {
            "tags": []
          },
          "execution_count": 42
        }
      ]
    },
    {
      "cell_type": "code",
      "metadata": {
        "id": "oF-qyrawqHVq",
        "colab_type": "code",
        "colab": {}
      },
      "source": [
        "output_notebook() # output bokeh plots inline in notebook"
      ],
      "execution_count": 43,
      "outputs": []
    },
    {
      "cell_type": "code",
      "metadata": {
        "id": "xw_2gnDFqI-5",
        "colab_type": "code",
        "colab": {}
      },
      "source": [
        "subset_df = coords_df.sample(n=500)"
      ],
      "execution_count": 44,
      "outputs": []
    },
    {
      "cell_type": "code",
      "metadata": {
        "id": "59IpwJlUqSLA",
        "colab_type": "code",
        "colab": {}
      },
      "source": [
        "p = figure(plot_width=800, plot_height=800)\n",
        "_ = p.text(x=subset_df.x, y=subset_df.y, text=subset_df.token)"
      ],
      "execution_count": 45,
      "outputs": []
    },
    {
      "cell_type": "code",
      "metadata": {
        "id": "J6_ZRrO-qUZ9",
        "colab_type": "code",
        "colab": {
          "base_uri": "https://localhost:8080/",
          "height": 817
        },
        "outputId": "4fc43c28-efe7-4356-beee-8321bd6f4a94"
      },
      "source": [
        "show(p)"
      ],
      "execution_count": 46,
      "outputs": [
        {
          "output_type": "display_data",
          "data": {
            "application/javascript": [
              "\n",
              "(function(root) {\n",
              "  function now() {\n",
              "    return new Date();\n",
              "  }\n",
              "\n",
              "  var force = true;\n",
              "\n",
              "  if (typeof root._bokeh_onload_callbacks === \"undefined\" || force === true) {\n",
              "    root._bokeh_onload_callbacks = [];\n",
              "    root._bokeh_is_loading = undefined;\n",
              "  }\n",
              "\n",
              "  var JS_MIME_TYPE = 'application/javascript';\n",
              "  var HTML_MIME_TYPE = 'text/html';\n",
              "  var EXEC_MIME_TYPE = 'application/vnd.bokehjs_exec.v0+json';\n",
              "  var CLASS_NAME = 'output_bokeh rendered_html';\n",
              "\n",
              "  /**\n",
              "   * Render data to the DOM node\n",
              "   */\n",
              "  function render(props, node) {\n",
              "    var script = document.createElement(\"script\");\n",
              "    node.appendChild(script);\n",
              "  }\n",
              "\n",
              "  /**\n",
              "   * Handle when an output is cleared or removed\n",
              "   */\n",
              "  function handleClearOutput(event, handle) {\n",
              "    var cell = handle.cell;\n",
              "\n",
              "    var id = cell.output_area._bokeh_element_id;\n",
              "    var server_id = cell.output_area._bokeh_server_id;\n",
              "    // Clean up Bokeh references\n",
              "    if (id != null && id in Bokeh.index) {\n",
              "      Bokeh.index[id].model.document.clear();\n",
              "      delete Bokeh.index[id];\n",
              "    }\n",
              "\n",
              "    if (server_id !== undefined) {\n",
              "      // Clean up Bokeh references\n",
              "      var cmd = \"from bokeh.io.state import curstate; print(curstate().uuid_to_server['\" + server_id + \"'].get_sessions()[0].document.roots[0]._id)\";\n",
              "      cell.notebook.kernel.execute(cmd, {\n",
              "        iopub: {\n",
              "          output: function(msg) {\n",
              "            var id = msg.content.text.trim();\n",
              "            if (id in Bokeh.index) {\n",
              "              Bokeh.index[id].model.document.clear();\n",
              "              delete Bokeh.index[id];\n",
              "            }\n",
              "          }\n",
              "        }\n",
              "      });\n",
              "      // Destroy server and session\n",
              "      var cmd = \"import bokeh.io.notebook as ion; ion.destroy_server('\" + server_id + \"')\";\n",
              "      cell.notebook.kernel.execute(cmd);\n",
              "    }\n",
              "  }\n",
              "\n",
              "  /**\n",
              "   * Handle when a new output is added\n",
              "   */\n",
              "  function handleAddOutput(event, handle) {\n",
              "    var output_area = handle.output_area;\n",
              "    var output = handle.output;\n",
              "\n",
              "    // limit handleAddOutput to display_data with EXEC_MIME_TYPE content only\n",
              "    if ((output.output_type != \"display_data\") || (!output.data.hasOwnProperty(EXEC_MIME_TYPE))) {\n",
              "      return\n",
              "    }\n",
              "\n",
              "    var toinsert = output_area.element.find(\".\" + CLASS_NAME.split(' ')[0]);\n",
              "\n",
              "    if (output.metadata[EXEC_MIME_TYPE][\"id\"] !== undefined) {\n",
              "      toinsert[toinsert.length - 1].firstChild.textContent = output.data[JS_MIME_TYPE];\n",
              "      // store reference to embed id on output_area\n",
              "      output_area._bokeh_element_id = output.metadata[EXEC_MIME_TYPE][\"id\"];\n",
              "    }\n",
              "    if (output.metadata[EXEC_MIME_TYPE][\"server_id\"] !== undefined) {\n",
              "      var bk_div = document.createElement(\"div\");\n",
              "      bk_div.innerHTML = output.data[HTML_MIME_TYPE];\n",
              "      var script_attrs = bk_div.children[0].attributes;\n",
              "      for (var i = 0; i < script_attrs.length; i++) {\n",
              "        toinsert[toinsert.length - 1].firstChild.setAttribute(script_attrs[i].name, script_attrs[i].value);\n",
              "      }\n",
              "      // store reference to server id on output_area\n",
              "      output_area._bokeh_server_id = output.metadata[EXEC_MIME_TYPE][\"server_id\"];\n",
              "    }\n",
              "  }\n",
              "\n",
              "  function register_renderer(events, OutputArea) {\n",
              "\n",
              "    function append_mime(data, metadata, element) {\n",
              "      // create a DOM node to render to\n",
              "      var toinsert = this.create_output_subarea(\n",
              "        metadata,\n",
              "        CLASS_NAME,\n",
              "        EXEC_MIME_TYPE\n",
              "      );\n",
              "      this.keyboard_manager.register_events(toinsert);\n",
              "      // Render to node\n",
              "      var props = {data: data, metadata: metadata[EXEC_MIME_TYPE]};\n",
              "      render(props, toinsert[toinsert.length - 1]);\n",
              "      element.append(toinsert);\n",
              "      return toinsert\n",
              "    }\n",
              "\n",
              "    /* Handle when an output is cleared or removed */\n",
              "    events.on('clear_output.CodeCell', handleClearOutput);\n",
              "    events.on('delete.Cell', handleClearOutput);\n",
              "\n",
              "    /* Handle when a new output is added */\n",
              "    events.on('output_added.OutputArea', handleAddOutput);\n",
              "\n",
              "    /**\n",
              "     * Register the mime type and append_mime function with output_area\n",
              "     */\n",
              "    OutputArea.prototype.register_mime_type(EXEC_MIME_TYPE, append_mime, {\n",
              "      /* Is output safe? */\n",
              "      safe: true,\n",
              "      /* Index of renderer in `output_area.display_order` */\n",
              "      index: 0\n",
              "    });\n",
              "  }\n",
              "\n",
              "  // register the mime type if in Jupyter Notebook environment and previously unregistered\n",
              "  if (root.Jupyter !== undefined) {\n",
              "    var events = require('base/js/events');\n",
              "    var OutputArea = require('notebook/js/outputarea').OutputArea;\n",
              "\n",
              "    if (OutputArea.prototype.mime_types().indexOf(EXEC_MIME_TYPE) == -1) {\n",
              "      register_renderer(events, OutputArea);\n",
              "    }\n",
              "  }\n",
              "\n",
              "  \n",
              "  if (typeof (root._bokeh_timeout) === \"undefined\" || force === true) {\n",
              "    root._bokeh_timeout = Date.now() + 5000;\n",
              "    root._bokeh_failed_load = false;\n",
              "  }\n",
              "\n",
              "  var NB_LOAD_WARNING = {'data': {'text/html':\n",
              "     \"<div style='background-color: #fdd'>\\n\"+\n",
              "     \"<p>\\n\"+\n",
              "     \"BokehJS does not appear to have successfully loaded. If loading BokehJS from CDN, this \\n\"+\n",
              "     \"may be due to a slow or bad network connection. Possible fixes:\\n\"+\n",
              "     \"</p>\\n\"+\n",
              "     \"<ul>\\n\"+\n",
              "     \"<li>re-rerun `output_notebook()` to attempt to load from CDN again, or</li>\\n\"+\n",
              "     \"<li>use INLINE resources instead, as so:</li>\\n\"+\n",
              "     \"</ul>\\n\"+\n",
              "     \"<code>\\n\"+\n",
              "     \"from bokeh.resources import INLINE\\n\"+\n",
              "     \"output_notebook(resources=INLINE)\\n\"+\n",
              "     \"</code>\\n\"+\n",
              "     \"</div>\"}};\n",
              "\n",
              "  function display_loaded() {\n",
              "    var el = document.getElementById(null);\n",
              "    if (el != null) {\n",
              "      el.textContent = \"BokehJS is loading...\";\n",
              "    }\n",
              "    if (root.Bokeh !== undefined) {\n",
              "      if (el != null) {\n",
              "        el.textContent = \"BokehJS \" + root.Bokeh.version + \" successfully loaded.\";\n",
              "      }\n",
              "    } else if (Date.now() < root._bokeh_timeout) {\n",
              "      setTimeout(display_loaded, 100)\n",
              "    }\n",
              "  }\n",
              "\n",
              "\n",
              "  function run_callbacks() {\n",
              "    try {\n",
              "      root._bokeh_onload_callbacks.forEach(function(callback) {\n",
              "        if (callback != null)\n",
              "          callback();\n",
              "      });\n",
              "    } finally {\n",
              "      delete root._bokeh_onload_callbacks\n",
              "    }\n",
              "    console.debug(\"Bokeh: all callbacks have finished\");\n",
              "  }\n",
              "\n",
              "  function load_libs(css_urls, js_urls, callback) {\n",
              "    if (css_urls == null) css_urls = [];\n",
              "    if (js_urls == null) js_urls = [];\n",
              "\n",
              "    root._bokeh_onload_callbacks.push(callback);\n",
              "    if (root._bokeh_is_loading > 0) {\n",
              "      console.debug(\"Bokeh: BokehJS is being loaded, scheduling callback at\", now());\n",
              "      return null;\n",
              "    }\n",
              "    if (js_urls == null || js_urls.length === 0) {\n",
              "      run_callbacks();\n",
              "      return null;\n",
              "    }\n",
              "    console.debug(\"Bokeh: BokehJS not loaded, scheduling load and callback at\", now());\n",
              "    root._bokeh_is_loading = css_urls.length + js_urls.length;\n",
              "\n",
              "    function on_load() {\n",
              "      root._bokeh_is_loading--;\n",
              "      if (root._bokeh_is_loading === 0) {\n",
              "        console.debug(\"Bokeh: all BokehJS libraries/stylesheets loaded\");\n",
              "        run_callbacks()\n",
              "      }\n",
              "    }\n",
              "\n",
              "    function on_error() {\n",
              "      console.error(\"failed to load \" + url);\n",
              "    }\n",
              "\n",
              "    for (var i = 0; i < css_urls.length; i++) {\n",
              "      var url = css_urls[i];\n",
              "      const element = document.createElement(\"link\");\n",
              "      element.onload = on_load;\n",
              "      element.onerror = on_error;\n",
              "      element.rel = \"stylesheet\";\n",
              "      element.type = \"text/css\";\n",
              "      element.href = url;\n",
              "      console.debug(\"Bokeh: injecting link tag for BokehJS stylesheet: \", url);\n",
              "      document.body.appendChild(element);\n",
              "    }\n",
              "\n",
              "    for (var i = 0; i < js_urls.length; i++) {\n",
              "      var url = js_urls[i];\n",
              "      var element = document.createElement('script');\n",
              "      element.onload = on_load;\n",
              "      element.onerror = on_error;\n",
              "      element.async = false;\n",
              "      element.src = url;\n",
              "      console.debug(\"Bokeh: injecting script tag for BokehJS library: \", url);\n",
              "      document.head.appendChild(element);\n",
              "    }\n",
              "  };\n",
              "\n",
              "  function inject_raw_css(css) {\n",
              "    const element = document.createElement(\"style\");\n",
              "    element.appendChild(document.createTextNode(css));\n",
              "    document.body.appendChild(element);\n",
              "  }\n",
              "\n",
              "  \n",
              "  var js_urls = [\"https://cdn.pydata.org/bokeh/release/bokeh-1.4.0.min.js\", \"https://cdn.pydata.org/bokeh/release/bokeh-widgets-1.4.0.min.js\", \"https://cdn.pydata.org/bokeh/release/bokeh-tables-1.4.0.min.js\", \"https://cdn.pydata.org/bokeh/release/bokeh-gl-1.4.0.min.js\"];\n",
              "  var css_urls = [];\n",
              "  \n",
              "\n",
              "  var inline_js = [\n",
              "    function(Bokeh) {\n",
              "      Bokeh.set_log_level(\"info\");\n",
              "    },\n",
              "    function(Bokeh) {\n",
              "    \n",
              "    \n",
              "    }\n",
              "  ];\n",
              "\n",
              "  function run_inline_js() {\n",
              "    \n",
              "    if (root.Bokeh !== undefined || force === true) {\n",
              "      \n",
              "    for (var i = 0; i < inline_js.length; i++) {\n",
              "      inline_js[i].call(root, root.Bokeh);\n",
              "    }\n",
              "    } else if (Date.now() < root._bokeh_timeout) {\n",
              "      setTimeout(run_inline_js, 100);\n",
              "    } else if (!root._bokeh_failed_load) {\n",
              "      console.log(\"Bokeh: BokehJS failed to load within specified timeout.\");\n",
              "      root._bokeh_failed_load = true;\n",
              "    } else if (force !== true) {\n",
              "      var cell = $(document.getElementById(null)).parents('.cell').data().cell;\n",
              "      cell.output_area.append_execute_result(NB_LOAD_WARNING)\n",
              "    }\n",
              "\n",
              "  }\n",
              "\n",
              "  if (root._bokeh_is_loading === 0) {\n",
              "    console.debug(\"Bokeh: BokehJS loaded, going straight to plotting\");\n",
              "    run_inline_js();\n",
              "  } else {\n",
              "    load_libs(css_urls, js_urls, function() {\n",
              "      console.debug(\"Bokeh: BokehJS plotting callback run at\", now());\n",
              "      run_inline_js();\n",
              "    });\n",
              "  }\n",
              "}(window));"
            ],
            "application/vnd.bokehjs_load.v0+json": "\n(function(root) {\n  function now() {\n    return new Date();\n  }\n\n  var force = true;\n\n  if (typeof root._bokeh_onload_callbacks === \"undefined\" || force === true) {\n    root._bokeh_onload_callbacks = [];\n    root._bokeh_is_loading = undefined;\n  }\n\n  \n\n  \n  if (typeof (root._bokeh_timeout) === \"undefined\" || force === true) {\n    root._bokeh_timeout = Date.now() + 5000;\n    root._bokeh_failed_load = false;\n  }\n\n  var NB_LOAD_WARNING = {'data': {'text/html':\n     \"<div style='background-color: #fdd'>\\n\"+\n     \"<p>\\n\"+\n     \"BokehJS does not appear to have successfully loaded. If loading BokehJS from CDN, this \\n\"+\n     \"may be due to a slow or bad network connection. Possible fixes:\\n\"+\n     \"</p>\\n\"+\n     \"<ul>\\n\"+\n     \"<li>re-rerun `output_notebook()` to attempt to load from CDN again, or</li>\\n\"+\n     \"<li>use INLINE resources instead, as so:</li>\\n\"+\n     \"</ul>\\n\"+\n     \"<code>\\n\"+\n     \"from bokeh.resources import INLINE\\n\"+\n     \"output_notebook(resources=INLINE)\\n\"+\n     \"</code>\\n\"+\n     \"</div>\"}};\n\n  function display_loaded() {\n    var el = document.getElementById(null);\n    if (el != null) {\n      el.textContent = \"BokehJS is loading...\";\n    }\n    if (root.Bokeh !== undefined) {\n      if (el != null) {\n        el.textContent = \"BokehJS \" + root.Bokeh.version + \" successfully loaded.\";\n      }\n    } else if (Date.now() < root._bokeh_timeout) {\n      setTimeout(display_loaded, 100)\n    }\n  }\n\n\n  function run_callbacks() {\n    try {\n      root._bokeh_onload_callbacks.forEach(function(callback) {\n        if (callback != null)\n          callback();\n      });\n    } finally {\n      delete root._bokeh_onload_callbacks\n    }\n    console.debug(\"Bokeh: all callbacks have finished\");\n  }\n\n  function load_libs(css_urls, js_urls, callback) {\n    if (css_urls == null) css_urls = [];\n    if (js_urls == null) js_urls = [];\n\n    root._bokeh_onload_callbacks.push(callback);\n    if (root._bokeh_is_loading > 0) {\n      console.debug(\"Bokeh: BokehJS is being loaded, scheduling callback at\", now());\n      return null;\n    }\n    if (js_urls == null || js_urls.length === 0) {\n      run_callbacks();\n      return null;\n    }\n    console.debug(\"Bokeh: BokehJS not loaded, scheduling load and callback at\", now());\n    root._bokeh_is_loading = css_urls.length + js_urls.length;\n\n    function on_load() {\n      root._bokeh_is_loading--;\n      if (root._bokeh_is_loading === 0) {\n        console.debug(\"Bokeh: all BokehJS libraries/stylesheets loaded\");\n        run_callbacks()\n      }\n    }\n\n    function on_error() {\n      console.error(\"failed to load \" + url);\n    }\n\n    for (var i = 0; i < css_urls.length; i++) {\n      var url = css_urls[i];\n      const element = document.createElement(\"link\");\n      element.onload = on_load;\n      element.onerror = on_error;\n      element.rel = \"stylesheet\";\n      element.type = \"text/css\";\n      element.href = url;\n      console.debug(\"Bokeh: injecting link tag for BokehJS stylesheet: \", url);\n      document.body.appendChild(element);\n    }\n\n    for (var i = 0; i < js_urls.length; i++) {\n      var url = js_urls[i];\n      var element = document.createElement('script');\n      element.onload = on_load;\n      element.onerror = on_error;\n      element.async = false;\n      element.src = url;\n      console.debug(\"Bokeh: injecting script tag for BokehJS library: \", url);\n      document.head.appendChild(element);\n    }\n  };\n\n  function inject_raw_css(css) {\n    const element = document.createElement(\"style\");\n    element.appendChild(document.createTextNode(css));\n    document.body.appendChild(element);\n  }\n\n  \n  var js_urls = [\"https://cdn.pydata.org/bokeh/release/bokeh-1.4.0.min.js\", \"https://cdn.pydata.org/bokeh/release/bokeh-widgets-1.4.0.min.js\", \"https://cdn.pydata.org/bokeh/release/bokeh-tables-1.4.0.min.js\", \"https://cdn.pydata.org/bokeh/release/bokeh-gl-1.4.0.min.js\"];\n  var css_urls = [];\n  \n\n  var inline_js = [\n    function(Bokeh) {\n      Bokeh.set_log_level(\"info\");\n    },\n    function(Bokeh) {\n    \n    \n    }\n  ];\n\n  function run_inline_js() {\n    \n    if (root.Bokeh !== undefined || force === true) {\n      \n    for (var i = 0; i < inline_js.length; i++) {\n      inline_js[i].call(root, root.Bokeh);\n    }\n    } else if (Date.now() < root._bokeh_timeout) {\n      setTimeout(run_inline_js, 100);\n    } else if (!root._bokeh_failed_load) {\n      console.log(\"Bokeh: BokehJS failed to load within specified timeout.\");\n      root._bokeh_failed_load = true;\n    } else if (force !== true) {\n      var cell = $(document.getElementById(null)).parents('.cell').data().cell;\n      cell.output_area.append_execute_result(NB_LOAD_WARNING)\n    }\n\n  }\n\n  if (root._bokeh_is_loading === 0) {\n    console.debug(\"Bokeh: BokehJS loaded, going straight to plotting\");\n    run_inline_js();\n  } else {\n    load_libs(css_urls, js_urls, function() {\n      console.debug(\"Bokeh: BokehJS plotting callback run at\", now());\n      run_inline_js();\n    });\n  }\n}(window));"
          },
          "metadata": {
            "tags": []
          }
        },
        {
          "output_type": "display_data",
          "data": {
            "text/html": [
              "\n",
              "\n",
              "\n",
              "\n",
              "\n",
              "\n",
              "  <div class=\"bk-root\" id=\"2ef083e3-27cc-4f22-a76b-d49f2a3bce7e\" data-root-id=\"1001\"></div>\n"
            ]
          },
          "metadata": {
            "tags": []
          }
        },
        {
          "output_type": "display_data",
          "data": {
            "application/javascript": [
              "(function(root) {\n",
              "  function embed_document(root) {\n",
              "    \n",
              "  var docs_json = {\"0eaba937-3708-4cc6-9de9-f2a77b8f48b5\":{\"roots\":{\"references\":[{\"attributes\":{\"below\":[{\"id\":\"1010\",\"type\":\"LinearAxis\"}],\"center\":[{\"id\":\"1014\",\"type\":\"Grid\"},{\"id\":\"1019\",\"type\":\"Grid\"}],\"left\":[{\"id\":\"1015\",\"type\":\"LinearAxis\"}],\"plot_height\":800,\"plot_width\":800,\"renderers\":[{\"id\":\"1036\",\"type\":\"GlyphRenderer\"}],\"title\":{\"id\":\"1039\",\"type\":\"Title\"},\"toolbar\":{\"id\":\"1026\",\"type\":\"Toolbar\"},\"x_range\":{\"id\":\"1002\",\"type\":\"DataRange1d\"},\"x_scale\":{\"id\":\"1006\",\"type\":\"LinearScale\"},\"y_range\":{\"id\":\"1004\",\"type\":\"DataRange1d\"},\"y_scale\":{\"id\":\"1008\",\"type\":\"LinearScale\"}},\"id\":\"1001\",\"subtype\":\"Figure\",\"type\":\"Plot\"},{\"attributes\":{},\"id\":\"1023\",\"type\":\"SaveTool\"},{\"attributes\":{\"data_source\":{\"id\":\"1033\",\"type\":\"ColumnDataSource\"},\"glyph\":{\"id\":\"1034\",\"type\":\"Text\"},\"hover_glyph\":null,\"muted_glyph\":null,\"nonselection_glyph\":{\"id\":\"1035\",\"type\":\"Text\"},\"selection_glyph\":null,\"view\":{\"id\":\"1037\",\"type\":\"CDSView\"}},\"id\":\"1036\",\"type\":\"GlyphRenderer\"},{\"attributes\":{},\"id\":\"1016\",\"type\":\"BasicTicker\"},{\"attributes\":{},\"id\":\"1006\",\"type\":\"LinearScale\"},{\"attributes\":{},\"id\":\"1021\",\"type\":\"WheelZoomTool\"},{\"attributes\":{\"callback\":null},\"id\":\"1002\",\"type\":\"DataRange1d\"},{\"attributes\":{},\"id\":\"1011\",\"type\":\"BasicTicker\"},{\"attributes\":{\"overlay\":{\"id\":\"1046\",\"type\":\"BoxAnnotation\"}},\"id\":\"1022\",\"type\":\"BoxZoomTool\"},{\"attributes\":{},\"id\":\"1024\",\"type\":\"ResetTool\"},{\"attributes\":{},\"id\":\"1045\",\"type\":\"UnionRenderers\"},{\"attributes\":{\"text\":\"\"},\"id\":\"1039\",\"type\":\"Title\"},{\"attributes\":{},\"id\":\"1020\",\"type\":\"PanTool\"},{\"attributes\":{\"ticker\":{\"id\":\"1011\",\"type\":\"BasicTicker\"}},\"id\":\"1014\",\"type\":\"Grid\"},{\"attributes\":{},\"id\":\"1008\",\"type\":\"LinearScale\"},{\"attributes\":{},\"id\":\"1041\",\"type\":\"BasicTickFormatter\"},{\"attributes\":{\"callback\":null,\"data\":{\"text\":[\"dissolution\",\"belongeth\",\"transgressor\",\"unity\",\"notion\",\"crosse\",\"capture\",\"insolent\",\"tattooed\",\"avenging\",\"excused\",\"cheek\",\"Flee\",\"unquiet\",\"60\",\"dissatisfied\",\"rumour\",\"shadow\",\"tiles\",\"basons\",\"trade\",\"Land\",\"familiarity\",\"Scott\",\"chap\",\"limitless\",\"Adar\",\"trumpeters\",\"blew\",\"winged\",\"involving\",\"draughts\",\"powerless\",\"turns\",\"instantly\",\"masonry\",\"mankind\",\"merciful\",\"Star\",\"imaginative\",\"49\",\"trading\",\"Please\",\"raspberry\",\"Leave\",\"Wherewith\",\"compliance\",\"stumbled\",\"experiences\",\"Money\",\"provide\",\"sports\",\"bereave\",\"Haul\",\"beings\",\"hurried\",\"smoothed\",\"diligently\",\"starting\",\"Ethiopian\",\"Wisedome\",\"Said\",\"halfe\",\"Byron\",\"ignorant\",\"tyranny\",\"inhuman\",\"deference\",\"diligence\",\"Number\",\"member\",\"sustained\",\"attendant\",\"st\",\"sting\",\"anarchism\",\"misfortune\",\"garment\",\"diminished\",\"Thief\",\"ghost\",\"Faith\",\"decay\",\"Kareah\",\"sneer\",\"midnight\",\"canoe\",\"contradicted\",\"sombre\",\"strictest\",\"Marquis\",\"shivered\",\"persuading\",\"Perizzites\",\"Hampshire\",\"diseases\",\"contained\",\"Speak\",\"Gibbethon\",\"overseer\",\"echo\",\"cure\",\"purport\",\"Looke\",\"chastening\",\"measure\",\"having\",\"sinneth\",\"bolder\",\"lookest\",\"carol\",\"Highbury\",\"packed\",\"chasteneth\",\"plans\",\"softened\",\"flukes\",\"before\",\"pebbles\",\"learning\",\"exterior\",\"shekel\",\"resigned\",\"Farewell\",\"battle\",\"ferry\",\"cracking\",\"games\",\"ran\",\"Seraphim\",\"guinea\",\"depraved\",\"moustache\",\"King\",\"Asa\",\"ocean\",\"glances\",\"glare\",\"third\",\"zones\",\"Paul\",\"Absalom\",\"cheering\",\"insects\",\"excessively\",\"definition\",\"boundless\",\"endlessly\",\"tropical\",\"goodnight\",\"indignation\",\"cordage\",\"interested\",\"reflections\",\"heaviest\",\"flown\",\"Jephthah\",\";\",\"matter\",\"about\",\"fat\",\"amount\",\"stiff\",\"offing\",\"who\",\"former\",\"toll\",\"146\",\"Sion\",\"pistol\",\"sperm\",\"Yea\",\"calculations\",\"humbug\",\"Gate\",\"dears\",\"*\",\"gun\",\"palaces\",\"harpooneer\",\"chancing\",\"dove\",\"ascending\",\"allow\",\"aspiring\",\"suspects\",\"asleepe\",\"sup\",\"peeping\",\"pitched\",\"fauour\",\"often\",\"_that_\",\"James\",\"acquire\",\"performers\",\"hateful\",\"spade\",\"sleepers\",\"prominent\",\"Whenever\",\"Isaac\",\"villain\",\"robed\",\"surprising\",\"standard\",\"respected\",\"Hostesse\",\"Rabbah\",\"discoveries\",\"yawned\",\");\",\"lace\",\"47\",\"fancy\",\"stillness\",\"property\",\"angles\",\"sweeter\",\"yesternight\",\"scatter\",\"fatted\",\"expenses\",\"unsuitable\",\"Police\",\"ejaculated\",\"sharpest\",\"owne\",\"fort\",\"leads\",\"Osricke\",\"truly\",\"reconcile\",\"powers\",\"decayed\",\"Coffin\",\"gave\",\"herb\",\"charm\",\"dealings\",\"land\",\"agreeing\",\"wanteth\",\"crippled\",\"maimed\",\"practice\",\"pastures\",\"slavery\",\"towards\",\"clean\",\"communication\",\"sudden\",\"agreement\",\"drums\",\"marshal\",\"lamp\",\"following\",\"vanishing\",\"Bird\",\"expressed\",\"corps\",\"shattering\",\"disappointment\",\"superfluous\",\"scud\",\"Randalls\",\"Congress\",\"Chapter\",\"tenderness\",\"tabernacles\",\"Collection\",\"`\",\"needy\",\"Wentworth\",\"storm\",\"pernicious\",\"yard\",\"furnished\",\"Chaldea\",\"twinkling\",\"Drake\",\"acquaintances\",\"colourless\",\"Mettle\",\"quill\",\"greenness\",\"unconquerable\",\"panted\",\"artist\",\"fresher\",\"hammered\",\"sheep\",\"English\",\"yea\",\"vices\",\"heath\",\"bought\",\"extasie\",\"Greco\",\"TREE\",\"Lobster\",\"hopelessly\",\"straightway\",\"Man\",\"sacrificing\",\"smooth\",\"Succoth\",\"slow\",\"parley\",\"degrees\",\"drawled\",\"rapturous\",\"Edom\",\"emerged\",\"violets\",\"accord\",\"keys\",\"claims\",\"sheaves\",\"customers\",\"groups\",\"toes\",\"Joses\",\"Birth\",\"Horses\",\"groaning\",\"Love\",\"cheese\",\"cooper\",\"swagger\",\"died\",\"howbeit\",\"reasons\",\"clustering\",\"clothed\",\"aliue\",\"guessing\",\"subscribe\",\"pluck\",\"chapel\",\"proposition\",\"sacred\",\"ferocity\",\"casual\",\"fluid\",\"Sonnes\",\"rested\",\"Prophesy\",\"striving\",\"abated\",\"purest\",\"originated\",\"portions\",\"Virginia\",\"dwelt\",\"masse\",\"fainting\",\"Morning\",\"flank\",\"neighbouring\",\"timbrels\",\"pottage\",\"Virtues\",\"dense\",\"intercept\",\"particular\",\"swell\",\"wafted\",\"Abel\",\"destroyed\",\"centre\",\"uncertainty\",\"sabbaths\",\"Sarai\",\"strengthen\",\"braces\",\"spoiler\",\"givest\",\"_The\",\"footpath\",\"Ancient\",\"faced\",\"chased\",\"abominations\",\"helpers\",\"widely\",\"ministering\",\"Almighty\",\"pestilence\",\"retiring\",\"rereward\",\"Anak\",\"worthless\",\"know\",\"Jerry\",\"Tun\",\"aslant\",\"purge\",\"vocation\",\"signify\",\"execution\",\"blamed\",\"expressive\",\"sly\",\"seen\",\"hired\",\"immediately\",\"afterwards\",\"desolations\",\"Triumph\",\"triumphed\",\"stealing\",\"themselues\",\"retreat\",\"wilde\",\"spoils\",\"affectionately\",\"troubles\",\"attendants\",\"Arabian\",\"Rezin\",\"Vicarage\",\"aristocratic\",\"Jozabad\",\"Jane\",\"engineers\",\"ma\",\"?'\\\"\",\"000\",\"serpent\",\"Vision\",\"sleepy\",\"reluctantly\",\"Havilah\",\"madest\",\"promoting\",\"dismiss\",\"Powers\",\"benignity\",\"attacked\",\"Marcellus\",\"Flauius\",\"incline\",\"Let\",\"decree\",\"story\",\"Othniel\",\"Deliverer\",\"clamour\",\"Zephon\",\"affirmed\",\"imputed\",\"prints\",\"referred\",\"Isle\",\"scourged\",\"waxed\",\"butt\",\"Freely\",\"secured\",\"quiver\",\"moodily\",\"rub\",\"Thanes\",\"breeding\",\"removed\",\"ours\",\"transfer\",\"sojourn\",\"fulfilled\",\"extremely\",\"Archite\",\"removeth\",\"offended\",\"Make\",\"prospered\",\"thread\",\"whim\",\"vehicles\",\"damsel\",\"weariness\",\"arrest\",\"appeased\",\"exists\",\"shrunk\",\"Trouble\",\"likely\",\"woman\",\"Main\",\"Soo\",\"armourbearer\",\"self\",\"exaggeration\",\"tall\",\"vice\",\"shattered\",\"Arabia\",\"swords\",\"tired\",\"watered\"],\"x\":{\"__ndarray__\":\"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\",\"dtype\":\"float32\",\"shape\":[500]},\"y\":{\"__ndarray__\":\"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\",\"dtype\":\"float32\",\"shape\":[500]}},\"selected\":{\"id\":\"1044\",\"type\":\"Selection\"},\"selection_policy\":{\"id\":\"1045\",\"type\":\"UnionRenderers\"}},\"id\":\"1033\",\"type\":\"ColumnDataSource\"},{\"attributes\":{},\"id\":\"1043\",\"type\":\"BasicTickFormatter\"},{\"attributes\":{\"bottom_units\":\"screen\",\"fill_alpha\":{\"value\":0.5},\"fill_color\":{\"value\":\"lightgrey\"},\"left_units\":\"screen\",\"level\":\"overlay\",\"line_alpha\":{\"value\":1.0},\"line_color\":{\"value\":\"black\"},\"line_dash\":[4,4],\"line_width\":{\"value\":2},\"render_mode\":\"css\",\"right_units\":\"screen\",\"top_units\":\"screen\"},\"id\":\"1046\",\"type\":\"BoxAnnotation\"},{\"attributes\":{\"text_color\":{\"value\":\"black\"},\"x\":{\"field\":\"x\"},\"y\":{\"field\":\"y\"}},\"id\":\"1034\",\"type\":\"Text\"},{\"attributes\":{\"formatter\":{\"id\":\"1043\",\"type\":\"BasicTickFormatter\"},\"ticker\":{\"id\":\"1011\",\"type\":\"BasicTicker\"}},\"id\":\"1010\",\"type\":\"LinearAxis\"},{\"attributes\":{\"dimension\":1,\"ticker\":{\"id\":\"1016\",\"type\":\"BasicTicker\"}},\"id\":\"1019\",\"type\":\"Grid\"},{\"attributes\":{\"text_alpha\":{\"value\":0.1},\"text_color\":{\"value\":\"black\"},\"x\":{\"field\":\"x\"},\"y\":{\"field\":\"y\"}},\"id\":\"1035\",\"type\":\"Text\"},{\"attributes\":{\"callback\":null},\"id\":\"1004\",\"type\":\"DataRange1d\"},{\"attributes\":{\"active_drag\":\"auto\",\"active_inspect\":\"auto\",\"active_multi\":null,\"active_scroll\":\"auto\",\"active_tap\":\"auto\",\"tools\":[{\"id\":\"1020\",\"type\":\"PanTool\"},{\"id\":\"1021\",\"type\":\"WheelZoomTool\"},{\"id\":\"1022\",\"type\":\"BoxZoomTool\"},{\"id\":\"1023\",\"type\":\"SaveTool\"},{\"id\":\"1024\",\"type\":\"ResetTool\"},{\"id\":\"1025\",\"type\":\"HelpTool\"}]},\"id\":\"1026\",\"type\":\"Toolbar\"},{\"attributes\":{},\"id\":\"1025\",\"type\":\"HelpTool\"},{\"attributes\":{\"formatter\":{\"id\":\"1041\",\"type\":\"BasicTickFormatter\"},\"ticker\":{\"id\":\"1016\",\"type\":\"BasicTicker\"}},\"id\":\"1015\",\"type\":\"LinearAxis\"},{\"attributes\":{},\"id\":\"1044\",\"type\":\"Selection\"},{\"attributes\":{\"source\":{\"id\":\"1033\",\"type\":\"ColumnDataSource\"}},\"id\":\"1037\",\"type\":\"CDSView\"}],\"root_ids\":[\"1001\"]},\"title\":\"Bokeh Application\",\"version\":\"1.4.0\"}};\n",
              "  var render_items = [{\"docid\":\"0eaba937-3708-4cc6-9de9-f2a77b8f48b5\",\"roots\":{\"1001\":\"2ef083e3-27cc-4f22-a76b-d49f2a3bce7e\"}}];\n",
              "  root.Bokeh.embed.embed_items_notebook(docs_json, render_items);\n",
              "\n",
              "  }\n",
              "  if (root.Bokeh !== undefined) {\n",
              "    embed_document(root);\n",
              "  } else {\n",
              "    var attempts = 0;\n",
              "    var timer = setInterval(function(root) {\n",
              "      if (root.Bokeh !== undefined) {\n",
              "        clearInterval(timer);\n",
              "        embed_document(root);\n",
              "      } else {\n",
              "        attempts++;\n",
              "        if (attempts > 100) {\n",
              "          clearInterval(timer);\n",
              "          console.log(\"Bokeh: ERROR: Unable to run BokehJS code because BokehJS library is missing\");\n",
              "        }\n",
              "      }\n",
              "    }, 10, root)\n",
              "  }\n",
              "})(window);"
            ],
            "application/vnd.bokehjs_exec.v0+json": ""
          },
          "metadata": {
            "tags": [],
            "application/vnd.bokehjs_exec.v0+json": {
              "id": "1001"
            }
          }
        }
      ]
    },
    {
      "cell_type": "code",
      "metadata": {
        "id": "vPcNuM6tqYS2",
        "colab_type": "code",
        "colab": {}
      },
      "source": [
        "# Review selected examples alone\n",
        "selected_tokens = ['father', 'husband', 'king', 'man', 'son', 'mother', 'wife', 'queen', 'woman', 'daughter']\n",
        "selected_coords = coords_df[coords_df.token.isin(selected_tokens)]"
      ],
      "execution_count": 50,
      "outputs": []
    },
    {
      "cell_type": "code",
      "metadata": {
        "id": "_tlc04dCrmYl",
        "colab_type": "code",
        "colab": {}
      },
      "source": [
        "# Plot the selected tokens\n",
        "p = figure(plot_width=500, plot_height=500)\n",
        "_ = p.text(x=selected_coords.x, y=selected_coords.y, text=selected_coords.token)"
      ],
      "execution_count": 53,
      "outputs": []
    },
    {
      "cell_type": "code",
      "metadata": {
        "id": "oEfP51-SsClc",
        "colab_type": "code",
        "colab": {
          "base_uri": "https://localhost:8080/",
          "height": 517
        },
        "outputId": "651b835a-b936-47e7-9c1d-d0485b9d3a65"
      },
      "source": [
        "show(p)"
      ],
      "execution_count": 54,
      "outputs": [
        {
          "output_type": "display_data",
          "data": {
            "application/javascript": [
              "\n",
              "(function(root) {\n",
              "  function now() {\n",
              "    return new Date();\n",
              "  }\n",
              "\n",
              "  var force = true;\n",
              "\n",
              "  if (typeof root._bokeh_onload_callbacks === \"undefined\" || force === true) {\n",
              "    root._bokeh_onload_callbacks = [];\n",
              "    root._bokeh_is_loading = undefined;\n",
              "  }\n",
              "\n",
              "  var JS_MIME_TYPE = 'application/javascript';\n",
              "  var HTML_MIME_TYPE = 'text/html';\n",
              "  var EXEC_MIME_TYPE = 'application/vnd.bokehjs_exec.v0+json';\n",
              "  var CLASS_NAME = 'output_bokeh rendered_html';\n",
              "\n",
              "  /**\n",
              "   * Render data to the DOM node\n",
              "   */\n",
              "  function render(props, node) {\n",
              "    var script = document.createElement(\"script\");\n",
              "    node.appendChild(script);\n",
              "  }\n",
              "\n",
              "  /**\n",
              "   * Handle when an output is cleared or removed\n",
              "   */\n",
              "  function handleClearOutput(event, handle) {\n",
              "    var cell = handle.cell;\n",
              "\n",
              "    var id = cell.output_area._bokeh_element_id;\n",
              "    var server_id = cell.output_area._bokeh_server_id;\n",
              "    // Clean up Bokeh references\n",
              "    if (id != null && id in Bokeh.index) {\n",
              "      Bokeh.index[id].model.document.clear();\n",
              "      delete Bokeh.index[id];\n",
              "    }\n",
              "\n",
              "    if (server_id !== undefined) {\n",
              "      // Clean up Bokeh references\n",
              "      var cmd = \"from bokeh.io.state import curstate; print(curstate().uuid_to_server['\" + server_id + \"'].get_sessions()[0].document.roots[0]._id)\";\n",
              "      cell.notebook.kernel.execute(cmd, {\n",
              "        iopub: {\n",
              "          output: function(msg) {\n",
              "            var id = msg.content.text.trim();\n",
              "            if (id in Bokeh.index) {\n",
              "              Bokeh.index[id].model.document.clear();\n",
              "              delete Bokeh.index[id];\n",
              "            }\n",
              "          }\n",
              "        }\n",
              "      });\n",
              "      // Destroy server and session\n",
              "      var cmd = \"import bokeh.io.notebook as ion; ion.destroy_server('\" + server_id + \"')\";\n",
              "      cell.notebook.kernel.execute(cmd);\n",
              "    }\n",
              "  }\n",
              "\n",
              "  /**\n",
              "   * Handle when a new output is added\n",
              "   */\n",
              "  function handleAddOutput(event, handle) {\n",
              "    var output_area = handle.output_area;\n",
              "    var output = handle.output;\n",
              "\n",
              "    // limit handleAddOutput to display_data with EXEC_MIME_TYPE content only\n",
              "    if ((output.output_type != \"display_data\") || (!output.data.hasOwnProperty(EXEC_MIME_TYPE))) {\n",
              "      return\n",
              "    }\n",
              "\n",
              "    var toinsert = output_area.element.find(\".\" + CLASS_NAME.split(' ')[0]);\n",
              "\n",
              "    if (output.metadata[EXEC_MIME_TYPE][\"id\"] !== undefined) {\n",
              "      toinsert[toinsert.length - 1].firstChild.textContent = output.data[JS_MIME_TYPE];\n",
              "      // store reference to embed id on output_area\n",
              "      output_area._bokeh_element_id = output.metadata[EXEC_MIME_TYPE][\"id\"];\n",
              "    }\n",
              "    if (output.metadata[EXEC_MIME_TYPE][\"server_id\"] !== undefined) {\n",
              "      var bk_div = document.createElement(\"div\");\n",
              "      bk_div.innerHTML = output.data[HTML_MIME_TYPE];\n",
              "      var script_attrs = bk_div.children[0].attributes;\n",
              "      for (var i = 0; i < script_attrs.length; i++) {\n",
              "        toinsert[toinsert.length - 1].firstChild.setAttribute(script_attrs[i].name, script_attrs[i].value);\n",
              "      }\n",
              "      // store reference to server id on output_area\n",
              "      output_area._bokeh_server_id = output.metadata[EXEC_MIME_TYPE][\"server_id\"];\n",
              "    }\n",
              "  }\n",
              "\n",
              "  function register_renderer(events, OutputArea) {\n",
              "\n",
              "    function append_mime(data, metadata, element) {\n",
              "      // create a DOM node to render to\n",
              "      var toinsert = this.create_output_subarea(\n",
              "        metadata,\n",
              "        CLASS_NAME,\n",
              "        EXEC_MIME_TYPE\n",
              "      );\n",
              "      this.keyboard_manager.register_events(toinsert);\n",
              "      // Render to node\n",
              "      var props = {data: data, metadata: metadata[EXEC_MIME_TYPE]};\n",
              "      render(props, toinsert[toinsert.length - 1]);\n",
              "      element.append(toinsert);\n",
              "      return toinsert\n",
              "    }\n",
              "\n",
              "    /* Handle when an output is cleared or removed */\n",
              "    events.on('clear_output.CodeCell', handleClearOutput);\n",
              "    events.on('delete.Cell', handleClearOutput);\n",
              "\n",
              "    /* Handle when a new output is added */\n",
              "    events.on('output_added.OutputArea', handleAddOutput);\n",
              "\n",
              "    /**\n",
              "     * Register the mime type and append_mime function with output_area\n",
              "     */\n",
              "    OutputArea.prototype.register_mime_type(EXEC_MIME_TYPE, append_mime, {\n",
              "      /* Is output safe? */\n",
              "      safe: true,\n",
              "      /* Index of renderer in `output_area.display_order` */\n",
              "      index: 0\n",
              "    });\n",
              "  }\n",
              "\n",
              "  // register the mime type if in Jupyter Notebook environment and previously unregistered\n",
              "  if (root.Jupyter !== undefined) {\n",
              "    var events = require('base/js/events');\n",
              "    var OutputArea = require('notebook/js/outputarea').OutputArea;\n",
              "\n",
              "    if (OutputArea.prototype.mime_types().indexOf(EXEC_MIME_TYPE) == -1) {\n",
              "      register_renderer(events, OutputArea);\n",
              "    }\n",
              "  }\n",
              "\n",
              "  \n",
              "  if (typeof (root._bokeh_timeout) === \"undefined\" || force === true) {\n",
              "    root._bokeh_timeout = Date.now() + 5000;\n",
              "    root._bokeh_failed_load = false;\n",
              "  }\n",
              "\n",
              "  var NB_LOAD_WARNING = {'data': {'text/html':\n",
              "     \"<div style='background-color: #fdd'>\\n\"+\n",
              "     \"<p>\\n\"+\n",
              "     \"BokehJS does not appear to have successfully loaded. If loading BokehJS from CDN, this \\n\"+\n",
              "     \"may be due to a slow or bad network connection. Possible fixes:\\n\"+\n",
              "     \"</p>\\n\"+\n",
              "     \"<ul>\\n\"+\n",
              "     \"<li>re-rerun `output_notebook()` to attempt to load from CDN again, or</li>\\n\"+\n",
              "     \"<li>use INLINE resources instead, as so:</li>\\n\"+\n",
              "     \"</ul>\\n\"+\n",
              "     \"<code>\\n\"+\n",
              "     \"from bokeh.resources import INLINE\\n\"+\n",
              "     \"output_notebook(resources=INLINE)\\n\"+\n",
              "     \"</code>\\n\"+\n",
              "     \"</div>\"}};\n",
              "\n",
              "  function display_loaded() {\n",
              "    var el = document.getElementById(null);\n",
              "    if (el != null) {\n",
              "      el.textContent = \"BokehJS is loading...\";\n",
              "    }\n",
              "    if (root.Bokeh !== undefined) {\n",
              "      if (el != null) {\n",
              "        el.textContent = \"BokehJS \" + root.Bokeh.version + \" successfully loaded.\";\n",
              "      }\n",
              "    } else if (Date.now() < root._bokeh_timeout) {\n",
              "      setTimeout(display_loaded, 100)\n",
              "    }\n",
              "  }\n",
              "\n",
              "\n",
              "  function run_callbacks() {\n",
              "    try {\n",
              "      root._bokeh_onload_callbacks.forEach(function(callback) {\n",
              "        if (callback != null)\n",
              "          callback();\n",
              "      });\n",
              "    } finally {\n",
              "      delete root._bokeh_onload_callbacks\n",
              "    }\n",
              "    console.debug(\"Bokeh: all callbacks have finished\");\n",
              "  }\n",
              "\n",
              "  function load_libs(css_urls, js_urls, callback) {\n",
              "    if (css_urls == null) css_urls = [];\n",
              "    if (js_urls == null) js_urls = [];\n",
              "\n",
              "    root._bokeh_onload_callbacks.push(callback);\n",
              "    if (root._bokeh_is_loading > 0) {\n",
              "      console.debug(\"Bokeh: BokehJS is being loaded, scheduling callback at\", now());\n",
              "      return null;\n",
              "    }\n",
              "    if (js_urls == null || js_urls.length === 0) {\n",
              "      run_callbacks();\n",
              "      return null;\n",
              "    }\n",
              "    console.debug(\"Bokeh: BokehJS not loaded, scheduling load and callback at\", now());\n",
              "    root._bokeh_is_loading = css_urls.length + js_urls.length;\n",
              "\n",
              "    function on_load() {\n",
              "      root._bokeh_is_loading--;\n",
              "      if (root._bokeh_is_loading === 0) {\n",
              "        console.debug(\"Bokeh: all BokehJS libraries/stylesheets loaded\");\n",
              "        run_callbacks()\n",
              "      }\n",
              "    }\n",
              "\n",
              "    function on_error() {\n",
              "      console.error(\"failed to load \" + url);\n",
              "    }\n",
              "\n",
              "    for (var i = 0; i < css_urls.length; i++) {\n",
              "      var url = css_urls[i];\n",
              "      const element = document.createElement(\"link\");\n",
              "      element.onload = on_load;\n",
              "      element.onerror = on_error;\n",
              "      element.rel = \"stylesheet\";\n",
              "      element.type = \"text/css\";\n",
              "      element.href = url;\n",
              "      console.debug(\"Bokeh: injecting link tag for BokehJS stylesheet: \", url);\n",
              "      document.body.appendChild(element);\n",
              "    }\n",
              "\n",
              "    for (var i = 0; i < js_urls.length; i++) {\n",
              "      var url = js_urls[i];\n",
              "      var element = document.createElement('script');\n",
              "      element.onload = on_load;\n",
              "      element.onerror = on_error;\n",
              "      element.async = false;\n",
              "      element.src = url;\n",
              "      console.debug(\"Bokeh: injecting script tag for BokehJS library: \", url);\n",
              "      document.head.appendChild(element);\n",
              "    }\n",
              "  };\n",
              "\n",
              "  function inject_raw_css(css) {\n",
              "    const element = document.createElement(\"style\");\n",
              "    element.appendChild(document.createTextNode(css));\n",
              "    document.body.appendChild(element);\n",
              "  }\n",
              "\n",
              "  \n",
              "  var js_urls = [\"https://cdn.pydata.org/bokeh/release/bokeh-1.4.0.min.js\", \"https://cdn.pydata.org/bokeh/release/bokeh-widgets-1.4.0.min.js\", \"https://cdn.pydata.org/bokeh/release/bokeh-tables-1.4.0.min.js\", \"https://cdn.pydata.org/bokeh/release/bokeh-gl-1.4.0.min.js\"];\n",
              "  var css_urls = [];\n",
              "  \n",
              "\n",
              "  var inline_js = [\n",
              "    function(Bokeh) {\n",
              "      Bokeh.set_log_level(\"info\");\n",
              "    },\n",
              "    function(Bokeh) {\n",
              "    \n",
              "    \n",
              "    }\n",
              "  ];\n",
              "\n",
              "  function run_inline_js() {\n",
              "    \n",
              "    if (root.Bokeh !== undefined || force === true) {\n",
              "      \n",
              "    for (var i = 0; i < inline_js.length; i++) {\n",
              "      inline_js[i].call(root, root.Bokeh);\n",
              "    }\n",
              "    } else if (Date.now() < root._bokeh_timeout) {\n",
              "      setTimeout(run_inline_js, 100);\n",
              "    } else if (!root._bokeh_failed_load) {\n",
              "      console.log(\"Bokeh: BokehJS failed to load within specified timeout.\");\n",
              "      root._bokeh_failed_load = true;\n",
              "    } else if (force !== true) {\n",
              "      var cell = $(document.getElementById(null)).parents('.cell').data().cell;\n",
              "      cell.output_area.append_execute_result(NB_LOAD_WARNING)\n",
              "    }\n",
              "\n",
              "  }\n",
              "\n",
              "  if (root._bokeh_is_loading === 0) {\n",
              "    console.debug(\"Bokeh: BokehJS loaded, going straight to plotting\");\n",
              "    run_inline_js();\n",
              "  } else {\n",
              "    load_libs(css_urls, js_urls, function() {\n",
              "      console.debug(\"Bokeh: BokehJS plotting callback run at\", now());\n",
              "      run_inline_js();\n",
              "    });\n",
              "  }\n",
              "}(window));"
            ],
            "application/vnd.bokehjs_load.v0+json": "\n(function(root) {\n  function now() {\n    return new Date();\n  }\n\n  var force = true;\n\n  if (typeof root._bokeh_onload_callbacks === \"undefined\" || force === true) {\n    root._bokeh_onload_callbacks = [];\n    root._bokeh_is_loading = undefined;\n  }\n\n  \n\n  \n  if (typeof (root._bokeh_timeout) === \"undefined\" || force === true) {\n    root._bokeh_timeout = Date.now() + 5000;\n    root._bokeh_failed_load = false;\n  }\n\n  var NB_LOAD_WARNING = {'data': {'text/html':\n     \"<div style='background-color: #fdd'>\\n\"+\n     \"<p>\\n\"+\n     \"BokehJS does not appear to have successfully loaded. If loading BokehJS from CDN, this \\n\"+\n     \"may be due to a slow or bad network connection. Possible fixes:\\n\"+\n     \"</p>\\n\"+\n     \"<ul>\\n\"+\n     \"<li>re-rerun `output_notebook()` to attempt to load from CDN again, or</li>\\n\"+\n     \"<li>use INLINE resources instead, as so:</li>\\n\"+\n     \"</ul>\\n\"+\n     \"<code>\\n\"+\n     \"from bokeh.resources import INLINE\\n\"+\n     \"output_notebook(resources=INLINE)\\n\"+\n     \"</code>\\n\"+\n     \"</div>\"}};\n\n  function display_loaded() {\n    var el = document.getElementById(null);\n    if (el != null) {\n      el.textContent = \"BokehJS is loading...\";\n    }\n    if (root.Bokeh !== undefined) {\n      if (el != null) {\n        el.textContent = \"BokehJS \" + root.Bokeh.version + \" successfully loaded.\";\n      }\n    } else if (Date.now() < root._bokeh_timeout) {\n      setTimeout(display_loaded, 100)\n    }\n  }\n\n\n  function run_callbacks() {\n    try {\n      root._bokeh_onload_callbacks.forEach(function(callback) {\n        if (callback != null)\n          callback();\n      });\n    } finally {\n      delete root._bokeh_onload_callbacks\n    }\n    console.debug(\"Bokeh: all callbacks have finished\");\n  }\n\n  function load_libs(css_urls, js_urls, callback) {\n    if (css_urls == null) css_urls = [];\n    if (js_urls == null) js_urls = [];\n\n    root._bokeh_onload_callbacks.push(callback);\n    if (root._bokeh_is_loading > 0) {\n      console.debug(\"Bokeh: BokehJS is being loaded, scheduling callback at\", now());\n      return null;\n    }\n    if (js_urls == null || js_urls.length === 0) {\n      run_callbacks();\n      return null;\n    }\n    console.debug(\"Bokeh: BokehJS not loaded, scheduling load and callback at\", now());\n    root._bokeh_is_loading = css_urls.length + js_urls.length;\n\n    function on_load() {\n      root._bokeh_is_loading--;\n      if (root._bokeh_is_loading === 0) {\n        console.debug(\"Bokeh: all BokehJS libraries/stylesheets loaded\");\n        run_callbacks()\n      }\n    }\n\n    function on_error() {\n      console.error(\"failed to load \" + url);\n    }\n\n    for (var i = 0; i < css_urls.length; i++) {\n      var url = css_urls[i];\n      const element = document.createElement(\"link\");\n      element.onload = on_load;\n      element.onerror = on_error;\n      element.rel = \"stylesheet\";\n      element.type = \"text/css\";\n      element.href = url;\n      console.debug(\"Bokeh: injecting link tag for BokehJS stylesheet: \", url);\n      document.body.appendChild(element);\n    }\n\n    for (var i = 0; i < js_urls.length; i++) {\n      var url = js_urls[i];\n      var element = document.createElement('script');\n      element.onload = on_load;\n      element.onerror = on_error;\n      element.async = false;\n      element.src = url;\n      console.debug(\"Bokeh: injecting script tag for BokehJS library: \", url);\n      document.head.appendChild(element);\n    }\n  };\n\n  function inject_raw_css(css) {\n    const element = document.createElement(\"style\");\n    element.appendChild(document.createTextNode(css));\n    document.body.appendChild(element);\n  }\n\n  \n  var js_urls = [\"https://cdn.pydata.org/bokeh/release/bokeh-1.4.0.min.js\", \"https://cdn.pydata.org/bokeh/release/bokeh-widgets-1.4.0.min.js\", \"https://cdn.pydata.org/bokeh/release/bokeh-tables-1.4.0.min.js\", \"https://cdn.pydata.org/bokeh/release/bokeh-gl-1.4.0.min.js\"];\n  var css_urls = [];\n  \n\n  var inline_js = [\n    function(Bokeh) {\n      Bokeh.set_log_level(\"info\");\n    },\n    function(Bokeh) {\n    \n    \n    }\n  ];\n\n  function run_inline_js() {\n    \n    if (root.Bokeh !== undefined || force === true) {\n      \n    for (var i = 0; i < inline_js.length; i++) {\n      inline_js[i].call(root, root.Bokeh);\n    }\n    } else if (Date.now() < root._bokeh_timeout) {\n      setTimeout(run_inline_js, 100);\n    } else if (!root._bokeh_failed_load) {\n      console.log(\"Bokeh: BokehJS failed to load within specified timeout.\");\n      root._bokeh_failed_load = true;\n    } else if (force !== true) {\n      var cell = $(document.getElementById(null)).parents('.cell').data().cell;\n      cell.output_area.append_execute_result(NB_LOAD_WARNING)\n    }\n\n  }\n\n  if (root._bokeh_is_loading === 0) {\n    console.debug(\"Bokeh: BokehJS loaded, going straight to plotting\");\n    run_inline_js();\n  } else {\n    load_libs(css_urls, js_urls, function() {\n      console.debug(\"Bokeh: BokehJS plotting callback run at\", now());\n      run_inline_js();\n    });\n  }\n}(window));"
          },
          "metadata": {
            "tags": []
          }
        },
        {
          "output_type": "display_data",
          "data": {
            "text/html": [
              "\n",
              "\n",
              "\n",
              "\n",
              "\n",
              "\n",
              "  <div class=\"bk-root\" id=\"627a62f0-52fe-4955-afe1-0bc42ebe1c7b\" data-root-id=\"1242\"></div>\n"
            ]
          },
          "metadata": {
            "tags": []
          }
        },
        {
          "output_type": "display_data",
          "data": {
            "application/javascript": [
              "(function(root) {\n",
              "  function embed_document(root) {\n",
              "    \n",
              "  var docs_json = {\"df926c29-c4f9-4234-a64c-d5b43285fde0\":{\"roots\":{\"references\":[{\"attributes\":{\"below\":[{\"id\":\"1251\",\"type\":\"LinearAxis\"}],\"center\":[{\"id\":\"1255\",\"type\":\"Grid\"},{\"id\":\"1260\",\"type\":\"Grid\"}],\"left\":[{\"id\":\"1256\",\"type\":\"LinearAxis\"}],\"plot_height\":500,\"plot_width\":500,\"renderers\":[{\"id\":\"1277\",\"type\":\"GlyphRenderer\"}],\"title\":{\"id\":\"1298\",\"type\":\"Title\"},\"toolbar\":{\"id\":\"1267\",\"type\":\"Toolbar\"},\"x_range\":{\"id\":\"1243\",\"type\":\"DataRange1d\"},\"x_scale\":{\"id\":\"1247\",\"type\":\"LinearScale\"},\"y_range\":{\"id\":\"1245\",\"type\":\"DataRange1d\"},\"y_scale\":{\"id\":\"1249\",\"type\":\"LinearScale\"}},\"id\":\"1242\",\"subtype\":\"Figure\",\"type\":\"Plot\"},{\"attributes\":{\"text_alpha\":{\"value\":0.1},\"text_color\":{\"value\":\"black\"},\"x\":{\"field\":\"x\"},\"y\":{\"field\":\"y\"}},\"id\":\"1276\",\"type\":\"Text\"},{\"attributes\":{},\"id\":\"1247\",\"type\":\"LinearScale\"},{\"attributes\":{\"callback\":null},\"id\":\"1243\",\"type\":\"DataRange1d\"},{\"attributes\":{},\"id\":\"1304\",\"type\":\"UnionRenderers\"},{\"attributes\":{},\"id\":\"1257\",\"type\":\"BasicTicker\"},{\"attributes\":{\"active_drag\":\"auto\",\"active_inspect\":\"auto\",\"active_multi\":null,\"active_scroll\":\"auto\",\"active_tap\":\"auto\",\"tools\":[{\"id\":\"1261\",\"type\":\"PanTool\"},{\"id\":\"1262\",\"type\":\"WheelZoomTool\"},{\"id\":\"1263\",\"type\":\"BoxZoomTool\"},{\"id\":\"1264\",\"type\":\"SaveTool\"},{\"id\":\"1265\",\"type\":\"ResetTool\"},{\"id\":\"1266\",\"type\":\"HelpTool\"}]},\"id\":\"1267\",\"type\":\"Toolbar\"},{\"attributes\":{\"overlay\":{\"id\":\"1305\",\"type\":\"BoxAnnotation\"}},\"id\":\"1263\",\"type\":\"BoxZoomTool\"},{\"attributes\":{},\"id\":\"1252\",\"type\":\"BasicTicker\"},{\"attributes\":{\"data_source\":{\"id\":\"1274\",\"type\":\"ColumnDataSource\"},\"glyph\":{\"id\":\"1275\",\"type\":\"Text\"},\"hover_glyph\":null,\"muted_glyph\":null,\"nonselection_glyph\":{\"id\":\"1276\",\"type\":\"Text\"},\"selection_glyph\":null,\"view\":{\"id\":\"1278\",\"type\":\"CDSView\"}},\"id\":\"1277\",\"type\":\"GlyphRenderer\"},{\"attributes\":{\"callback\":null},\"id\":\"1245\",\"type\":\"DataRange1d\"},{\"attributes\":{},\"id\":\"1300\",\"type\":\"BasicTickFormatter\"},{\"attributes\":{\"ticker\":{\"id\":\"1252\",\"type\":\"BasicTicker\"}},\"id\":\"1255\",\"type\":\"Grid\"},{\"attributes\":{\"text_color\":{\"value\":\"black\"},\"x\":{\"field\":\"x\"},\"y\":{\"field\":\"y\"}},\"id\":\"1275\",\"type\":\"Text\"},{\"attributes\":{\"bottom_units\":\"screen\",\"fill_alpha\":{\"value\":0.5},\"fill_color\":{\"value\":\"lightgrey\"},\"left_units\":\"screen\",\"level\":\"overlay\",\"line_alpha\":{\"value\":1.0},\"line_color\":{\"value\":\"black\"},\"line_dash\":[4,4],\"line_width\":{\"value\":2},\"render_mode\":\"css\",\"right_units\":\"screen\",\"top_units\":\"screen\"},\"id\":\"1305\",\"type\":\"BoxAnnotation\"},{\"attributes\":{\"formatter\":{\"id\":\"1302\",\"type\":\"BasicTickFormatter\"},\"ticker\":{\"id\":\"1252\",\"type\":\"BasicTicker\"}},\"id\":\"1251\",\"type\":\"LinearAxis\"},{\"attributes\":{},\"id\":\"1264\",\"type\":\"SaveTool\"},{\"attributes\":{},\"id\":\"1249\",\"type\":\"LinearScale\"},{\"attributes\":{\"callback\":null,\"data\":{\"text\":[\"father\",\"mother\",\"woman\",\"man\",\"husband\",\"daughter\",\"wife\",\"son\",\"king\",\"queen\"],\"x\":{\"__ndarray__\":\"Ws1xQmHXcUKZlARC+AoTwiIAckLyynFCBeRxQn0mdkK6WYBCTaI0Qg==\",\"dtype\":\"float32\",\"shape\":[10]},\"y\":{\"__ndarray__\":\"95+hwO8wocCD9RXBX7VeQPqyn8Ce6aLA3xqiwI/8bcFhPD3BeYHswA==\",\"dtype\":\"float32\",\"shape\":[10]}},\"selected\":{\"id\":\"1303\",\"type\":\"Selection\"},\"selection_policy\":{\"id\":\"1304\",\"type\":\"UnionRenderers\"}},\"id\":\"1274\",\"type\":\"ColumnDataSource\"},{\"attributes\":{},\"id\":\"1302\",\"type\":\"BasicTickFormatter\"},{\"attributes\":{\"source\":{\"id\":\"1274\",\"type\":\"ColumnDataSource\"}},\"id\":\"1278\",\"type\":\"CDSView\"},{\"attributes\":{\"text\":\"\"},\"id\":\"1298\",\"type\":\"Title\"},{\"attributes\":{},\"id\":\"1303\",\"type\":\"Selection\"},{\"attributes\":{},\"id\":\"1261\",\"type\":\"PanTool\"},{\"attributes\":{\"dimension\":1,\"ticker\":{\"id\":\"1257\",\"type\":\"BasicTicker\"}},\"id\":\"1260\",\"type\":\"Grid\"},{\"attributes\":{},\"id\":\"1265\",\"type\":\"ResetTool\"},{\"attributes\":{\"formatter\":{\"id\":\"1300\",\"type\":\"BasicTickFormatter\"},\"ticker\":{\"id\":\"1257\",\"type\":\"BasicTicker\"}},\"id\":\"1256\",\"type\":\"LinearAxis\"},{\"attributes\":{},\"id\":\"1266\",\"type\":\"HelpTool\"},{\"attributes\":{},\"id\":\"1262\",\"type\":\"WheelZoomTool\"}],\"root_ids\":[\"1242\"]},\"title\":\"Bokeh Application\",\"version\":\"1.4.0\"}};\n",
              "  var render_items = [{\"docid\":\"df926c29-c4f9-4234-a64c-d5b43285fde0\",\"roots\":{\"1242\":\"627a62f0-52fe-4955-afe1-0bc42ebe1c7b\"}}];\n",
              "  root.Bokeh.embed.embed_items_notebook(docs_json, render_items);\n",
              "\n",
              "  }\n",
              "  if (root.Bokeh !== undefined) {\n",
              "    embed_document(root);\n",
              "  } else {\n",
              "    var attempts = 0;\n",
              "    var timer = setInterval(function(root) {\n",
              "      if (root.Bokeh !== undefined) {\n",
              "        clearInterval(timer);\n",
              "        embed_document(root);\n",
              "      } else {\n",
              "        attempts++;\n",
              "        if (attempts > 100) {\n",
              "          clearInterval(timer);\n",
              "          console.log(\"Bokeh: ERROR: Unable to run BokehJS code because BokehJS library is missing\");\n",
              "        }\n",
              "      }\n",
              "    }, 10, root)\n",
              "  }\n",
              "})(window);"
            ],
            "application/vnd.bokehjs_exec.v0+json": ""
          },
          "metadata": {
            "tags": [],
            "application/vnd.bokehjs_exec.v0+json": {
              "id": "1242"
            }
          }
        }
      ]
    },
    {
      "cell_type": "code",
      "metadata": {
        "id": "IbfSf-WYsV3H",
        "colab_type": "code",
        "colab": {}
      },
      "source": [
        "# Code is based on JonKrohn's lectures on Linear Algebra and Natural Language processing.\n",
        "# You can check out original Repo at github/JonKrohn"
      ],
      "execution_count": null,
      "outputs": []
    }
  ]
}